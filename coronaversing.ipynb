{
 "cells": [
  {
   "cell_type": "markdown",
   "metadata": {},
   "source": [
    "# Coronavirus Genome Analysis\n",
    "\n",
    "**TABLE OF CONTENTS**\n",
    "\n",
    "1. [Fetch data (from NCBI)](#section1)\n",
    "2. [Exploratory data analysis)](#section2)\n",
    "\n",
    "**Disclaimer**: this notebook is still under construction."
   ]
  },
  {
   "cell_type": "code",
   "execution_count": 1,
   "metadata": {},
   "outputs": [],
   "source": [
    "from matplotlib import pyplot as plt\n",
    "\n",
    "from IPython.display import display, HTML\n",
    "from IPython.display import Markdown as md\n",
    "\n",
    "from sklearn.linear_model import LinearRegression\n",
    "\n",
    "from Bio import SeqIO\n",
    "from Bio import Entrez\n",
    "\n",
    "import pandas as pd\n",
    "import seaborn as sb\n",
    "import numpy as np\n",
    "import seaborn as sns\n",
    "from scipy import stats\n",
    "import math\n",
    "import zlib\n",
    "\n",
    "from sklearn.feature_extraction.text import TfidfVectorizer\n",
    "from stop_words import get_stop_words\n",
    "\n",
    "import os\n",
    "import lzma as xz\n",
    "\n",
    "# data folders\n",
    "root_folder = \"./data/genbank/\"\n",
    "viruses = [\"coronaviridae\"]\n",
    "cache_file = \"cache.csv\" # file periodically removed\n",
    "\n",
    "hidden_columns = [\"sequence\", \"file_path\"]\n",
    "\n",
    "max_unknown_nucleotides = 10"
   ]
  },
  {
   "cell_type": "markdown",
   "metadata": {},
   "source": [
    "# 1. Fetch data (from NCBI) <a id=\"section1\"></a>\n",
    "\n",
    "Fetch the latest data from NCBI using keywords and a genome size range."
   ]
  },
  {
   "cell_type": "code",
   "execution_count": 2,
   "metadata": {},
   "outputs": [
    {
     "name": "stdout",
     "output_type": "stream",
     "text": [
      "[+] Collected 436  gb files\n"
     ]
    }
   ],
   "source": [
    "base_folder = \"./data/genbank/\"\n",
    "\n",
    "Entrez.email = 'coronaversing@gmail.com'\n",
    "size_and_date = \"(\\\"28000\\\"[SLEN] : \\\"35000\\\"[SLEN]) AND (\\\"2019/12/01\\\"[PDAT] : \\\"2020/12/31\\\"[PDAT])\"\n",
    "genbank_search_query = {\"coronaviridae\": [\"SARS-CoV-2[All Fields] AND \" + size_and_date,\n",
    "                                          \"2019-nCoV[All Fields] AND \" + size_and_date,\n",
    "                                          \"coronavirus[All Fields] AND \" + size_and_date]}\n",
    "\n",
    "def fetch_gb(path, gid):\n",
    "    handle = Entrez.efetch(db='nucleotide', id=gid, rettype='gb')\n",
    "    local_file = open(path + \"/\" + gid + \".gb\", 'w')\n",
    "    local_file.write(handle.read())\n",
    "    handle.close()\n",
    "    local_file.close()\n",
    "\n",
    "genome_files = genbank_search_query\n",
    "viruses = genbank_search_query.keys()\n",
    "    \n",
    "count = 0\n",
    "for vrs in viruses:\n",
    "    \n",
    "    data_folder = base_folder + vrs\n",
    "    if not os.path.exists(data_folder):\n",
    "        os.makedirs(data_folder)\n",
    "    \n",
    "    for keywords in genome_files[vrs]:\n",
    "        handle = Entrez.esearch(db=\"nucleotide\", retmax=500, term=keywords, idtype=\"acc\")\n",
    "        record = Entrez.read(handle)\n",
    "        ids = record[\"IdList\"]\n",
    "        handle.close()\n",
    "\n",
    "        for genbank_id in ids:\n",
    "            file_name = data_folder + \"/\" + genbank_id + \".gb\"\n",
    "            count += 1\n",
    "            if not os.path.exists(file_name):\n",
    "                print(\"[+]  --- * fetching (\", vrs, \")\", file_name)\n",
    "                downloaded = False\n",
    "                count = 0\n",
    "                while not downloaded:\n",
    "                    try:\n",
    "                        fetch_gb(data_folder, genbank_id)\n",
    "                        downloaded = True\n",
    "                    except:\n",
    "                        if count == 5:\n",
    "                            print(\"[+]  --- * couldn't get (\", vrs, \")\", genbank_id)\n",
    "                            break\n",
    "                        count += 1\n",
    "                        time.sleep(3)\n",
    "                        pass\n",
    "\n",
    "print(\"[+] Collected\", count, \" gb files\")"
   ]
  },
  {
   "cell_type": "markdown",
   "metadata": {},
   "source": [
    "# 2. Exploratory data analysis <a id=\"section2\"></a>\n",
    "\n",
    "First of all, let's take a look to the data structure and condense it on a data frame. We are only looking at complete genomes downloaded from NCBI."
   ]
  },
  {
   "cell_type": "code",
   "execution_count": 3,
   "metadata": {},
   "outputs": [
    {
     "data": {
      "text/html": [
       "<table border=\"1\" class=\"dataframe\">\n",
       "  <thead>\n",
       "    <tr style=\"text-align: right;\">\n",
       "      <th></th>\n",
       "      <th>Unnamed: 0</th>\n",
       "      <th>id</th>\n",
       "      <th>length</th>\n",
       "      <th>date</th>\n",
       "      <th>information</th>\n",
       "      <th>description</th>\n",
       "      <th>country</th>\n",
       "      <th>host</th>\n",
       "      <th>strain</th>\n",
       "      <th>collection_date</th>\n",
       "    </tr>\n",
       "  </thead>\n",
       "  <tbody>\n",
       "    <tr>\n",
       "      <th>0</th>\n",
       "      <td>0</td>\n",
       "      <td>LC063818.1</td>\n",
       "      <td>27904</td>\n",
       "      <td>2015-11-05</td>\n",
       "      <td>1.261989</td>\n",
       "      <td>Porcine epidemic diarrhea virus genomic RNA, complete genome, strain: KMM-2/JPN/2014</td>\n",
       "      <td>japan</td>\n",
       "      <td>sus scrofa domesticus</td>\n",
       "      <td>KMM-2/JPN/2014</td>\n",
       "      <td>2014-01</td>\n",
       "    </tr>\n",
       "    <tr>\n",
       "      <th>1</th>\n",
       "      <td>1</td>\n",
       "      <td>GU553365.1</td>\n",
       "      <td>29644</td>\n",
       "      <td>2010-02-08</td>\n",
       "      <td>1.188778</td>\n",
       "      <td>SARS coronavirus HKU-39849 isolate TCVSP-HARROD-00003, complete genome</td>\n",
       "      <td>usa</td>\n",
       "      <td>chlorocebus aethiops</td>\n",
       "      <td>HKU-39849</td>\n",
       "      <td>05-Dec-2007</td>\n",
       "    </tr>\n",
       "    <tr>\n",
       "      <th>2</th>\n",
       "      <td>2</td>\n",
       "      <td>KX425847.1</td>\n",
       "      <td>27709</td>\n",
       "      <td>2017-03-18</td>\n",
       "      <td>1.274860</td>\n",
       "      <td>Infectious bronchitis virus strain ck/CH/LJL/140734, complete genome</td>\n",
       "      <td>china</td>\n",
       "      <td>gallus gallus</td>\n",
       "      <td>ck/CH/LJL/140734</td>\n",
       "      <td>2014</td>\n",
       "    </tr>\n",
       "    <tr>\n",
       "      <th>3</th>\n",
       "      <td>3</td>\n",
       "      <td>LC063838.1</td>\n",
       "      <td>27481</td>\n",
       "      <td>2015-11-05</td>\n",
       "      <td>1.280082</td>\n",
       "      <td>Porcine epidemic diarrhea virus genomic RNA, complete genome, strain: MYG-1/JPN/2014</td>\n",
       "      <td>japan</td>\n",
       "      <td>sus scrofa domesticus</td>\n",
       "      <td>MYG-1/JPN/2014</td>\n",
       "      <td>2014-07</td>\n",
       "    </tr>\n",
       "    <tr>\n",
       "      <th>4</th>\n",
       "      <td>4</td>\n",
       "      <td>KY581684.1</td>\n",
       "      <td>30123</td>\n",
       "      <td>2017-12-20</td>\n",
       "      <td>1.163873</td>\n",
       "      <td>Middle East respiratory syndrome-related coronavirus strain Hu/UAE_002_2013, complete genome</td>\n",
       "      <td>united arab emirates</td>\n",
       "      <td>homo sapiens</td>\n",
       "      <td>Hu/UAE_002_2013</td>\n",
       "      <td>10-Jul-2013</td>\n",
       "    </tr>\n",
       "  </tbody>\n",
       "</table>"
      ],
      "text/plain": [
       "<IPython.core.display.HTML object>"
      ]
     },
     "metadata": {},
     "output_type": "display_data"
    }
   ],
   "source": [
    "def get_genomes():\n",
    "    for vrs in viruses:    \n",
    "        # define data frame structure\n",
    "        feature_columns = [\"country\", \"host\", \"strain\", \"collection_date\"]\n",
    "        sample_columns = [\"id\", \"length\", \"date\", \"information\", \"description\", \"sequence\", \"file_path\"]\n",
    "        total_columns = sample_columns + feature_columns\n",
    "        vrs_frame = {i:list() for i in total_columns}\n",
    "\n",
    "        # loop over gb files\n",
    "        data_folder = root_folder + vrs + \"/\"\n",
    "        for filename in os.listdir(data_folder):\n",
    "            if filename.endswith(\".gb\"): \n",
    "                for seq_record in SeqIO.parse(data_folder + filename, \"genbank\"):\n",
    "\n",
    "                    # get genome sequence, under certain tolerance to unknown nucleotides\n",
    "                    genome_sequence = seq_record.seq\n",
    "                    if genome_sequence.count(\"N\") > max_unknown_nucleotides:\n",
    "                        continue\n",
    "                        \n",
    "                    if not (seq_record.annotations['molecule_type'] == \"RNA\" or seq_record.annotations['molecule_type'] == \"ss-RNA\"):\n",
    "                        continue \n",
    "                    \n",
    "                    # get several additional variables from genbank file featues (if availbale)\n",
    "                    for ftrs in seq_record.features:\n",
    "                        if ftrs.type == \"source\":                        \n",
    "                            for var in feature_columns:                        \n",
    "                                if var in ftrs.qualifiers:\n",
    "                                    \n",
    "                                    # sanitize country\n",
    "                                    if var == \"country\":\n",
    "                                        country = ftrs.qualifiers[var][0]\n",
    "                                        country = country.split(\":\")[0]\n",
    "                                        vrs_frame[\"country\"].append(country.lower())\n",
    "                                    # sanitize host\n",
    "                                    elif var == \"host\":\n",
    "                                        host = ftrs.qualifiers[var][0]\n",
    "                                        host = host.split(\";\")[0]\n",
    "                                        vrs_frame[\"host\"].append(host.lower())\n",
    "                                    else:\n",
    "                                        vrs_frame[var].append(ftrs.qualifiers[var][0])\n",
    "                                        \n",
    "                                        \n",
    "                                else:\n",
    "                                    vrs_frame[var].append(\"unknown\")\n",
    "                            break\n",
    "                        else:\n",
    "                            print(\"not source on : \", filename)\n",
    "\n",
    "\n",
    "                    # compress virus genome to get an idea of the amount of information. \n",
    "                    info = 10000.0 / len(xz.compress(str(seq_record.seq).encode('utf-8')))\n",
    "\n",
    "                    # genome length\n",
    "                    genome_length = len(seq_record.seq)\n",
    "\n",
    "                    vrs_frame[\"id\"].append(seq_record.id)\n",
    "                    vrs_frame[\"date\"].append(pd.to_datetime(seq_record.annotations[\"date\"]))\n",
    "                    vrs_frame[\"information\"].append(info)\n",
    "                    vrs_frame[\"length\"].append(genome_length)\n",
    "                    vrs_frame[\"sequence\"].append(genome_sequence)\n",
    "                    vrs_frame[\"file_path\"].append(data_folder + filename)\n",
    "                    vrs_frame[\"description\"].append(seq_record.description)\n",
    "\n",
    "            else:\n",
    "                continue\n",
    "\n",
    "        df = pd.DataFrame.from_dict(vrs_frame)\n",
    "        return df\n",
    "\n",
    "if os.path.isfile(cache_file):\n",
    "    corona_orig = pd.read_csv(cache_file, parse_dates=[\"date\"])\n",
    "else:\n",
    "    corona_orig = get_genomes()\n",
    "    corona_orig.to_csv(cache_file)\n",
    "    \n",
    "display(HTML(corona_orig.drop(hidden_columns, axis=1).head().to_html()))"
   ]
  },
  {
   "cell_type": "markdown",
   "metadata": {},
   "source": [
    "## 2.1. Coronavirus genome size and information\n",
    "\n",
    "Let's look at the genome size and information distribution among all samples. The information column it's defined as the inverse of the amount of bytes of the genome compressed using lzma. It should be an indicator of the amount of information encoded in the sequence. A higher compression indicates a more ordered state (low entropy) which is equivalent to a high amount of information (think of a completely random sequence of base pairs, the comprression ratio will be pretty high, since it doesn't have much information on it)"
   ]
  },
  {
   "cell_type": "code",
   "execution_count": 4,
   "metadata": {},
   "outputs": [
    {
     "data": {
      "image/png": "[encoded data removed]",
      "text/plain": [
       "<Figure size 1152x432 with 2 Axes>"
      ]
     },
     "metadata": {
      "needs_background": "light"
     },
     "output_type": "display_data"
    }
   ],
   "source": [
    "fig, axs = plt.subplots(ncols=2, figsize=(16, 6));\n",
    "sns.distplot(corona_orig[\"length\"], kde=False, ax=axs[0]);\n",
    "sns.distplot(corona_orig[\"information\"], kde=False, ax=axs[1]);"
   ]
  },
  {
   "cell_type": "markdown",
   "metadata": {},
   "source": [
    "There are a few outliers in the dataset, some genomes are less than ~25k base pairs and some higher than ~32k which is known to be the size range of coronaviruses genomes; most likely some are incomplete sequences or mRNA sequences. Let's take a closer look to this outliers and plot the genome size distribution."
   ]
  },
  {
   "cell_type": "code",
   "execution_count": 5,
   "metadata": {},
   "outputs": [
    {
     "data": {
      "text/markdown": [
       "$\\overline{x} = 27641.33$ *bps*"
      ],
      "text/plain": [
       "<IPython.core.display.Markdown object>"
      ]
     },
     "execution_count": 5,
     "metadata": {},
     "output_type": "execute_result"
    }
   ],
   "source": [
    "mean = corona_orig[\"length\"].mean()\n",
    "std = corona_orig[\"length\"].std()\n",
    "\n",
    "md(\"$\\overline{x} = %.2f$ *bps*\"%mean)"
   ]
  },
  {
   "cell_type": "code",
   "execution_count": 6,
   "metadata": {},
   "outputs": [
    {
     "data": {
      "text/markdown": [
       "${s} = 5781.19$ *bps*"
      ],
      "text/plain": [
       "<IPython.core.display.Markdown object>"
      ]
     },
     "execution_count": 6,
     "metadata": {},
     "output_type": "execute_result"
    }
   ],
   "source": [
    "md(\"${s} = %.2f$ *bps*\"%std)"
   ]
  },
  {
   "cell_type": "code",
   "execution_count": 7,
   "metadata": {
    "scrolled": false
   },
   "outputs": [
    {
     "data": {
      "image/png": "[encoded data removed]",
      "text/plain": [
       "<Figure size 1152x432 with 2 Axes>"
      ]
     },
     "metadata": {
      "needs_background": "light"
     },
     "output_type": "display_data"
    }
   ],
   "source": [
    "# let's use 1 std to detect outliers\n",
    "cutoff_left = mean - std\n",
    "cutoff_right = mean + std\n",
    "\n",
    "outliers_low = corona_orig[corona_orig[\"length\"] < cutoff_left]\n",
    "outliers_high = corona_orig[corona_orig[\"length\"] > cutoff_right]\n",
    "    \n",
    "if(len(outliers_high) > 0):\n",
    "    fig, axs = plt.subplots(ncols=2, figsize=(16, 6));\n",
    "    sns.distplot(outliers_high[\"length\"], kde=False, ax=axs[1]);\n",
    "    sns.distplot(outliers_low[\"length\"], kde=False, ax=axs[0]);\n",
    "else:\n",
    "    plt.figure(figsize=(16, 6))\n",
    "    sns.distplot(outliers_low[\"length\"], kde=False);"
   ]
  },
  {
   "cell_type": "markdown",
   "metadata": {},
   "source": [
    "There seems to be some anomalies for cases with a genome below ~16k. Let's look at this cases more closely."
   ]
  },
  {
   "cell_type": "code",
   "execution_count": 8,
   "metadata": {},
   "outputs": [
    {
     "data": {
      "text/html": [
       "<table border=\"1\" class=\"dataframe\">\n",
       "  <thead>\n",
       "    <tr style=\"text-align: right;\">\n",
       "      <th></th>\n",
       "      <th>Unnamed: 0</th>\n",
       "      <th>id</th>\n",
       "      <th>length</th>\n",
       "      <th>date</th>\n",
       "      <th>information</th>\n",
       "      <th>description</th>\n",
       "      <th>country</th>\n",
       "      <th>host</th>\n",
       "      <th>strain</th>\n",
       "      <th>collection_date</th>\n",
       "    </tr>\n",
       "  </thead>\n",
       "  <tbody>\n",
       "    <tr>\n",
       "      <th>5</th>\n",
       "      <td>5</td>\n",
       "      <td>MT186680.1</td>\n",
       "      <td>363</td>\n",
       "      <td>2020-03-13</td>\n",
       "      <td>42.372881</td>\n",
       "      <td>Severe acute respiratory syndrome coronavirus 2 isolate SARS-CoV-2/257182/human/2020/IRN nucleocapsid phosphoprotein (N) gene, partial cds</td>\n",
       "      <td>iran</td>\n",
       "      <td>homo sapiens</td>\n",
       "      <td>unknown</td>\n",
       "      <td>17-Feb-2020</td>\n",
       "    </tr>\n",
       "    <tr>\n",
       "      <th>22</th>\n",
       "      <td>22</td>\n",
       "      <td>MT081068.1</td>\n",
       "      <td>1260</td>\n",
       "      <td>2020-02-20</td>\n",
       "      <td>18.796992</td>\n",
       "      <td>Severe acute respiratory syndrome coronavirus 2 isolate SARS-CoV-2/HS_194/human/2020/CHN nucleocapsid phosphoprotein (N) gene, complete cds</td>\n",
       "      <td>china</td>\n",
       "      <td>homo sapiens</td>\n",
       "      <td>unknown</td>\n",
       "      <td>06-Feb-2020</td>\n",
       "    </tr>\n",
       "    <tr>\n",
       "      <th>26</th>\n",
       "      <td>26</td>\n",
       "      <td>KF294433.1</td>\n",
       "      <td>2795</td>\n",
       "      <td>2020-03-16</td>\n",
       "      <td>10.000000</td>\n",
       "      <td>SARS-related bat coronavirus isolate Longquan-127 RNA-dependent RNA polymerase gene, partial cds</td>\n",
       "      <td>china</td>\n",
       "      <td>rhinolophus sinicus</td>\n",
       "      <td>unknown</td>\n",
       "      <td>2012</td>\n",
       "    </tr>\n",
       "    <tr>\n",
       "      <th>41</th>\n",
       "      <td>41</td>\n",
       "      <td>KF294439.1</td>\n",
       "      <td>2795</td>\n",
       "      <td>2020-03-16</td>\n",
       "      <td>9.881423</td>\n",
       "      <td>SARS-related bat coronavirus isolate Anlong-29 RNA-dependent RNA polymerase gene, partial cds</td>\n",
       "      <td>china</td>\n",
       "      <td>miniopterus schreibersii</td>\n",
       "      <td>unknown</td>\n",
       "      <td>2012</td>\n",
       "    </tr>\n",
       "    <tr>\n",
       "      <th>95</th>\n",
       "      <td>95</td>\n",
       "      <td>KF294440.1</td>\n",
       "      <td>2795</td>\n",
       "      <td>2020-03-16</td>\n",
       "      <td>9.881423</td>\n",
       "      <td>SARS-related bat coronavirus isolate Anlong-97 RNA-dependent RNA polymerase gene, partial cds</td>\n",
       "      <td>china</td>\n",
       "      <td>rhinolophus sinicus</td>\n",
       "      <td>unknown</td>\n",
       "      <td>2012</td>\n",
       "    </tr>\n",
       "    <tr>\n",
       "      <th>112</th>\n",
       "      <td>112</td>\n",
       "      <td>KF294382.1</td>\n",
       "      <td>13631</td>\n",
       "      <td>2020-03-16</td>\n",
       "      <td>2.512563</td>\n",
       "      <td>Anlong Ms bat coronavirus isolate Neixiang-32 orf1ab polyprotein gene, partial cds</td>\n",
       "      <td>china</td>\n",
       "      <td>myotis davidii</td>\n",
       "      <td>unknown</td>\n",
       "      <td>2012</td>\n",
       "    </tr>\n",
       "    <tr>\n",
       "      <th>116</th>\n",
       "      <td>116</td>\n",
       "      <td>KF294427.1</td>\n",
       "      <td>2795</td>\n",
       "      <td>2020-03-16</td>\n",
       "      <td>10.000000</td>\n",
       "      <td>SARS-related bat coronavirus isolate Longquan-106 RNA-dependent RNA polymerase gene, partial cds</td>\n",
       "      <td>china</td>\n",
       "      <td>rhinolophus monoceros</td>\n",
       "      <td>unknown</td>\n",
       "      <td>2012</td>\n",
       "    </tr>\n",
       "    <tr>\n",
       "      <th>136</th>\n",
       "      <td>136</td>\n",
       "      <td>KF294436.1</td>\n",
       "      <td>2795</td>\n",
       "      <td>2020-03-16</td>\n",
       "      <td>10.000000</td>\n",
       "      <td>SARS-related bat coronavirus isolate Longquan-132 RNA-dependent RNA polymerase gene, partial cds</td>\n",
       "      <td>china</td>\n",
       "      <td>rhinolophus monoceros</td>\n",
       "      <td>unknown</td>\n",
       "      <td>2012</td>\n",
       "    </tr>\n",
       "    <tr>\n",
       "      <th>141</th>\n",
       "      <td>141</td>\n",
       "      <td>KF294376.1</td>\n",
       "      <td>2780</td>\n",
       "      <td>2020-03-16</td>\n",
       "      <td>10.040161</td>\n",
       "      <td>Lushi Ml bat coronavirus isolate Neixiang-27 RNA-dependent RNA polymerase gene, partial cds</td>\n",
       "      <td>china</td>\n",
       "      <td>murina leucogaster</td>\n",
       "      <td>unknown</td>\n",
       "      <td>2012</td>\n",
       "    </tr>\n",
       "    <tr>\n",
       "      <th>156</th>\n",
       "      <td>156</td>\n",
       "      <td>MT186676.1</td>\n",
       "      <td>363</td>\n",
       "      <td>2020-03-13</td>\n",
       "      <td>42.372881</td>\n",
       "      <td>Severe acute respiratory syndrome coronavirus 2 isolate SARS-CoV-2/1337/human/2020/IRN nucleocapsid phosphoprotein (N) gene, partial cds</td>\n",
       "      <td>iran</td>\n",
       "      <td>homo sapiens</td>\n",
       "      <td>unknown</td>\n",
       "      <td>03-Mar-2020</td>\n",
       "    </tr>\n",
       "  </tbody>\n",
       "</table>"
      ],
      "text/plain": [
       "<IPython.core.display.HTML object>"
      ]
     },
     "metadata": {},
     "output_type": "display_data"
    }
   ],
   "source": [
    "bps_low_limit = 16000\n",
    "outliers_low_values = outliers_low[outliers_low[\"length\"] < bps_low_limit]\n",
    "display(HTML(outliers_low_values.head(10).drop(hidden_columns, axis=1).to_html()))"
   ]
  },
  {
   "cell_type": "markdown",
   "metadata": {},
   "source": [
    "We can grab the top keywrods used in the description of this submissions."
   ]
  },
  {
   "cell_type": "code",
   "execution_count": 9,
   "metadata": {},
   "outputs": [
    {
     "data": {
      "text/html": [
       "<table border=\"1\" class=\"dataframe\">\n",
       "  <thead>\n",
       "    <tr style=\"text-align: right;\">\n",
       "      <th></th>\n",
       "      <th>keywords</th>\n",
       "    </tr>\n",
       "  </thead>\n",
       "  <tbody>\n",
       "    <tr>\n",
       "      <th>0</th>\n",
       "      <td>rna</td>\n",
       "    </tr>\n",
       "    <tr>\n",
       "      <th>1</th>\n",
       "      <td>partial</td>\n",
       "    </tr>\n",
       "    <tr>\n",
       "      <th>2</th>\n",
       "      <td>gene</td>\n",
       "    </tr>\n",
       "    <tr>\n",
       "      <th>3</th>\n",
       "      <td>isolate</td>\n",
       "    </tr>\n",
       "    <tr>\n",
       "      <th>4</th>\n",
       "      <td>coronavirus</td>\n",
       "    </tr>\n",
       "  </tbody>\n",
       "</table>"
      ],
      "text/plain": [
       "<IPython.core.display.HTML object>"
      ]
     },
     "metadata": {},
     "output_type": "display_data"
    }
   ],
   "source": [
    "def top_keywords(df):\n",
    "    descrps = []\n",
    "    for descrp in df[\"description\"]:\n",
    "        descrps.append(descrp)\n",
    "    \n",
    "    stopwords = ['the','about','an','and','are','at','be','can','for','from','if','in','is','it','of','on','or','that','this','to','you','your','with',]\n",
    "    tfidf = TfidfVectorizer(max_features=10, stop_words=stopwords)\n",
    "    tfidf.fit_transform(descrps)\n",
    "    response = tfidf.transform(descrps)\n",
    "\n",
    "    feature_array = np.array(tfidf.get_feature_names())\n",
    "    tfidf_sorting = np.argsort(response.toarray()).flatten()[::-1]\n",
    "\n",
    "    top_keyworkds = feature_array[tfidf_sorting][:5]\n",
    "\n",
    "    display(HTML(pd.DataFrame(top_keyworkds, columns=[\"keywords\"]).to_html()))\n",
    "\n",
    "top_keywords(outliers_low_values)"
   ]
  },
  {
   "cell_type": "markdown",
   "metadata": {},
   "source": [
    "These sequences are partial genomes or isolated genes, we can safely ignore this by setting a genome size cutoff at 16k. "
   ]
  },
  {
   "cell_type": "code",
   "execution_count": 10,
   "metadata": {},
   "outputs": [],
   "source": [
    "corona = corona_orig[corona_orig[\"length\"] > bps_low_limit]"
   ]
  },
  {
   "cell_type": "markdown",
   "metadata": {},
   "source": [
    "Additionally, let's explore the keywords in the description of the remaining submissions."
   ]
  },
  {
   "cell_type": "code",
   "execution_count": 11,
   "metadata": {},
   "outputs": [
    {
     "data": {
      "text/html": [
       "<table border=\"1\" class=\"dataframe\">\n",
       "  <thead>\n",
       "    <tr style=\"text-align: right;\">\n",
       "      <th></th>\n",
       "      <th>keywords</th>\n",
       "    </tr>\n",
       "  </thead>\n",
       "  <tbody>\n",
       "    <tr>\n",
       "      <th>0</th>\n",
       "      <td>isolate</td>\n",
       "    </tr>\n",
       "    <tr>\n",
       "      <th>1</th>\n",
       "      <td>genome</td>\n",
       "    </tr>\n",
       "    <tr>\n",
       "      <th>2</th>\n",
       "      <td>complete</td>\n",
       "    </tr>\n",
       "    <tr>\n",
       "      <th>3</th>\n",
       "      <td>virus</td>\n",
       "    </tr>\n",
       "    <tr>\n",
       "      <th>4</th>\n",
       "      <td>syndrome</td>\n",
       "    </tr>\n",
       "  </tbody>\n",
       "</table>"
      ],
      "text/plain": [
       "<IPython.core.display.HTML object>"
      ]
     },
     "metadata": {},
     "output_type": "display_data"
    }
   ],
   "source": [
    "top_keywords(corona)"
   ]
  },
  {
   "cell_type": "markdown",
   "metadata": {},
   "source": [
    "Finally let's plot the genome size and information distribution among the remaining samples."
   ]
  },
  {
   "cell_type": "code",
   "execution_count": 12,
   "metadata": {},
   "outputs": [
    {
     "data": {
      "image/png": "[encoded data removed]",
      "text/plain": [
       "<Figure size 1152x432 with 2 Axes>"
      ]
     },
     "metadata": {
      "needs_background": "light"
     },
     "output_type": "display_data"
    }
   ],
   "source": [
    "fig, axs = plt.subplots(ncols=2, figsize=(16, 6));\n",
    "sns.distplot(corona[\"length\"], kde=False, ax=axs[0]);\n",
    "sns.distplot(corona[\"information\"], kde=False, ax=axs[1]);"
   ]
  },
  {
   "cell_type": "markdown",
   "metadata": {},
   "source": [
    "By looking at the graphs, it seems that both the genome size and information have pretty much the same distribution. We should study the correlation between this two parameters and look for samples outside the general trend. Given the nature of viruses, one would expect that over time the amount of information is preserved regardless of the genome size. This might not be an accurate measure of that behavior, but it's useful to spot anomalies in the data."
   ]
  },
  {
   "cell_type": "code",
   "execution_count": 13,
   "metadata": {},
   "outputs": [
    {
     "data": {
      "image/png": "[encoded data removed]",
      "text/plain": [
       "<Figure size 1152x432 with 1 Axes>"
      ]
     },
     "metadata": {
      "needs_background": "light"
     },
     "output_type": "display_data"
    }
   ],
   "source": [
    "plt.figure(figsize=(16, 6))\n",
    "sns.set(color_codes=True)\n",
    "sns.regplot(x=\"length\", y=\"information\", data=corona[[\"length\", \"information\"]]);"
   ]
  },
  {
   "cell_type": "code",
   "execution_count": 14,
   "metadata": {},
   "outputs": [
    {
     "data": {
      "text/html": [
       "<table border=\"1\" class=\"dataframe\">\n",
       "  <thead>\n",
       "    <tr style=\"text-align: right;\">\n",
       "      <th></th>\n",
       "      <th>Unnamed: 0</th>\n",
       "      <th>id</th>\n",
       "      <th>length</th>\n",
       "      <th>date</th>\n",
       "      <th>information</th>\n",
       "      <th>description</th>\n",
       "      <th>country</th>\n",
       "      <th>host</th>\n",
       "      <th>strain</th>\n",
       "      <th>collection_date</th>\n",
       "    </tr>\n",
       "  </thead>\n",
       "  <tbody>\n",
       "    <tr>\n",
       "      <th>114</th>\n",
       "      <td>114</td>\n",
       "      <td>KJ541759.1</td>\n",
       "      <td>33452</td>\n",
       "      <td>2014-08-20</td>\n",
       "      <td>1.093135</td>\n",
       "      <td>Ball python nidovirus strain 07-53, complete genome</td>\n",
       "      <td>usa</td>\n",
       "      <td>python regius</td>\n",
       "      <td>07-53</td>\n",
       "      <td>01-Jun-2007</td>\n",
       "    </tr>\n",
       "    <tr>\n",
       "      <th>614</th>\n",
       "      <td>614</td>\n",
       "      <td>KF294456.1</td>\n",
       "      <td>21444</td>\n",
       "      <td>2020-03-16</td>\n",
       "      <td>1.621271</td>\n",
       "      <td>SARS-related bat coronavirus isolate Jiyuan-331 orf1ab polyprotein gene, complete cds</td>\n",
       "      <td>china</td>\n",
       "      <td>rhinolophus ferrumequinum</td>\n",
       "      <td>unknown</td>\n",
       "      <td>2012</td>\n",
       "    </tr>\n",
       "    <tr>\n",
       "      <th>757</th>\n",
       "      <td>757</td>\n",
       "      <td>NC_024709.1</td>\n",
       "      <td>33452</td>\n",
       "      <td>2018-08-13</td>\n",
       "      <td>1.093135</td>\n",
       "      <td>Ball python nidovirus strain 07-53, complete genome</td>\n",
       "      <td>usa</td>\n",
       "      <td>python regius</td>\n",
       "      <td>07-53</td>\n",
       "      <td>01-Jun-2007</td>\n",
       "    </tr>\n",
       "    <tr>\n",
       "      <th>1023</th>\n",
       "      <td>1023</td>\n",
       "      <td>KM589359.1</td>\n",
       "      <td>20261</td>\n",
       "      <td>2015-04-29</td>\n",
       "      <td>1.765537</td>\n",
       "      <td>Bovine nidovirus TCH5, complete genome</td>\n",
       "      <td>usa</td>\n",
       "      <td>bos taurus</td>\n",
       "      <td>unknown</td>\n",
       "      <td>2013</td>\n",
       "    </tr>\n",
       "    <tr>\n",
       "      <th>1910</th>\n",
       "      <td>1910</td>\n",
       "      <td>NC_027199.1</td>\n",
       "      <td>20261</td>\n",
       "      <td>2018-08-13</td>\n",
       "      <td>1.765537</td>\n",
       "      <td>Bovine nidovirus TCH5, complete genome</td>\n",
       "      <td>usa</td>\n",
       "      <td>bos taurus</td>\n",
       "      <td>unknown</td>\n",
       "      <td>2013</td>\n",
       "    </tr>\n",
       "    <tr>\n",
       "      <th>2226</th>\n",
       "      <td>2226</td>\n",
       "      <td>MG600028.1</td>\n",
       "      <td>29409</td>\n",
       "      <td>2018-11-08</td>\n",
       "      <td>1.276813</td>\n",
       "      <td>Hainan hebius popei torovirus strain LPSC33749 1ab protein, spike protein, and hypothetical protein genes, complete cds</td>\n",
       "      <td>china</td>\n",
       "      <td>hebius popei</td>\n",
       "      <td>LPSC33749</td>\n",
       "      <td>unknown</td>\n",
       "    </tr>\n",
       "    <tr>\n",
       "      <th>3041</th>\n",
       "      <td>3041</td>\n",
       "      <td>MG752895.1</td>\n",
       "      <td>33576</td>\n",
       "      <td>2018-01-27</td>\n",
       "      <td>1.086484</td>\n",
       "      <td>Ball python nidovirus 1 isolate 148, complete genome</td>\n",
       "      <td>usa</td>\n",
       "      <td>python regius</td>\n",
       "      <td>unknown</td>\n",
       "      <td>30-Nov-2016</td>\n",
       "    </tr>\n",
       "  </tbody>\n",
       "</table>"
      ],
      "text/plain": [
       "<IPython.core.display.HTML object>"
      ]
     },
     "metadata": {},
     "output_type": "display_data"
    }
   ],
   "source": [
    "x = corona[\"length\"].values.reshape(-1, 1)\n",
    "y = corona[\"information\"].values.reshape(-1, 1)\n",
    "reg = LinearRegression().fit(x, y) \n",
    "information_outliers = (100 * (y - reg.predict(x)) / reg.predict(x)) > 5\n",
    "display(HTML(corona[information_outliers].drop(hidden_columns, axis=1).to_html()))"
   ]
  },
  {
   "cell_type": "markdown",
   "metadata": {},
   "source": [
    "There are a few anomalies that have information values above (5%) the fitted line, but the more interesting ones are SARS-related KF294456.1 and KF294456.1, with a (pressumably) genome size ~21k and a high amount of information. By looking at the description these are actually complete CDS and not complete genomes. The increase of information could be explained by the removal of the non coding region of the genome. In any case, we'll have to take into account when comparing genomes that some samples might have the non-coding region removed."
   ]
  },
  {
   "cell_type": "code",
   "execution_count": 15,
   "metadata": {},
   "outputs": [
    {
     "data": {
      "text/markdown": [
       "In total we collected $n = 3000$ samples "
      ],
      "text/plain": [
       "<IPython.core.display.Markdown object>"
      ]
     },
     "execution_count": 15,
     "metadata": {},
     "output_type": "execute_result"
    }
   ],
   "source": [
    "md(\"In total we collected $n = %i$ samples \"%(len(corona)))"
   ]
  },
  {
   "cell_type": "markdown",
   "metadata": {},
   "source": [
    "## 2.2. Coronavirus genome time analysis\n",
    "\n",
    "Another interesting thing to do, it's to analyze how the genome size changed over time, specially on the samples submitted the past month.\n"
   ]
  },
  {
   "cell_type": "code",
   "execution_count": 16,
   "metadata": {},
   "outputs": [
    {
     "data": {
      "image/png": "[encoded data removed]",
      "text/plain": [
       "<Figure size 1152x432 with 1 Axes>"
      ]
     },
     "metadata": {},
     "output_type": "display_data"
    }
   ],
   "source": [
    "corona.plot(x=\"date\", y=[\"length\"], style='.', figsize=(16, 6));"
   ]
  },
  {
   "cell_type": "markdown",
   "metadata": {},
   "source": [
    "It is clear that there is a diversity on the genome size of the submissions, which might be related that some sequences only represent coding regions and that we are dealing with various species that should be clustered for a deeper analysis per strain. A protein level analysis of the samples will be better to reveal similarities among all the genomes in the dataset. \n",
    "\n",
    "What about the samples submitted since december 2019?"
   ]
  },
  {
   "cell_type": "code",
   "execution_count": 17,
   "metadata": {},
   "outputs": [
    {
     "data": {
      "image/png": "[encoded data removed]",
      "text/plain": [
       "<Figure size 1152x432 with 1 Axes>"
      ]
     },
     "metadata": {},
     "output_type": "display_data"
    }
   ],
   "source": [
    "novel_corona = corona[corona[\"date\"] > pd.to_datetime(\"2019-12-01\")]\n",
    "novel_corona.plot(x=\"date\", y=[\"length\"], style='.', figsize=(16, 6));"
   ]
  },
  {
   "cell_type": "markdown",
   "metadata": {},
   "source": [
    "We know the genome size of the Wuhan virus has a size of 29903 bps. How many samples with that genome size do we have?"
   ]
  },
  {
   "cell_type": "code",
   "execution_count": 18,
   "metadata": {},
   "outputs": [
    {
     "data": {
      "text/html": [
       "<table border=\"1\" class=\"dataframe\">\n",
       "  <thead>\n",
       "    <tr style=\"text-align: right;\">\n",
       "      <th></th>\n",
       "      <th>Unnamed: 0</th>\n",
       "      <th>id</th>\n",
       "      <th>length</th>\n",
       "      <th>date</th>\n",
       "      <th>information</th>\n",
       "      <th>description</th>\n",
       "      <th>country</th>\n",
       "      <th>host</th>\n",
       "      <th>strain</th>\n",
       "      <th>collection_date</th>\n",
       "    </tr>\n",
       "  </thead>\n",
       "  <tbody>\n",
       "    <tr>\n",
       "      <th>226</th>\n",
       "      <td>226</td>\n",
       "      <td>MT163718.1</td>\n",
       "      <td>29903</td>\n",
       "      <td>2020-03-10</td>\n",
       "      <td>1.190476</td>\n",
       "      <td>Severe acute respiratory syndrome coronavirus 2 isolate SARS-CoV-2/WA6-UW3/human/2020/USA, complete genome</td>\n",
       "      <td>usa</td>\n",
       "      <td>homo sapiens</td>\n",
       "      <td>unknown</td>\n",
       "      <td>29-Feb-2020</td>\n",
       "    </tr>\n",
       "    <tr>\n",
       "      <th>228</th>\n",
       "      <td>228</td>\n",
       "      <td>MT163719.1</td>\n",
       "      <td>29903</td>\n",
       "      <td>2020-03-10</td>\n",
       "      <td>1.189343</td>\n",
       "      <td>Severe acute respiratory syndrome coronavirus 2 isolate SARS-CoV-2/WA7-UW4/human/2020/USA, complete genome</td>\n",
       "      <td>usa</td>\n",
       "      <td>homo sapiens</td>\n",
       "      <td>unknown</td>\n",
       "      <td>01-Mar-2020</td>\n",
       "    </tr>\n",
       "    <tr>\n",
       "      <th>499</th>\n",
       "      <td>499</td>\n",
       "      <td>MT135043.1</td>\n",
       "      <td>29903</td>\n",
       "      <td>2020-03-04</td>\n",
       "      <td>1.188778</td>\n",
       "      <td>Severe acute respiratory syndrome coronavirus 2 isolate SARS-CoV-2/233/human/2020/CHN, complete genome</td>\n",
       "      <td>china</td>\n",
       "      <td>homo sapiens</td>\n",
       "      <td>unknown</td>\n",
       "      <td>28-Jan-2020</td>\n",
       "    </tr>\n",
       "    <tr>\n",
       "      <th>630</th>\n",
       "      <td>630</td>\n",
       "      <td>MT135044.1</td>\n",
       "      <td>29903</td>\n",
       "      <td>2020-03-04</td>\n",
       "      <td>1.188778</td>\n",
       "      <td>Severe acute respiratory syndrome coronavirus 2 isolate SARS-CoV-2/235/human/2020/CHN, complete genome</td>\n",
       "      <td>china</td>\n",
       "      <td>homo sapiens</td>\n",
       "      <td>unknown</td>\n",
       "      <td>28-Jan-2020</td>\n",
       "    </tr>\n",
       "    <tr>\n",
       "      <th>954</th>\n",
       "      <td>954</td>\n",
       "      <td>MN908947.3</td>\n",
       "      <td>29903</td>\n",
       "      <td>2020-03-18</td>\n",
       "      <td>1.189343</td>\n",
       "      <td>Severe acute respiratory syndrome coronavirus 2 isolate Wuhan-Hu-1, complete genome</td>\n",
       "      <td>china</td>\n",
       "      <td>homo sapiens</td>\n",
       "      <td>unknown</td>\n",
       "      <td>Dec-2019</td>\n",
       "    </tr>\n",
       "    <tr>\n",
       "      <th>955</th>\n",
       "      <td>955</td>\n",
       "      <td>MT135041.1</td>\n",
       "      <td>29903</td>\n",
       "      <td>2020-03-04</td>\n",
       "      <td>1.188778</td>\n",
       "      <td>Severe acute respiratory syndrome coronavirus 2 isolate SARS-CoV-2/105/human/2020/CHN, complete genome</td>\n",
       "      <td>china</td>\n",
       "      <td>homo sapiens</td>\n",
       "      <td>unknown</td>\n",
       "      <td>26-Jan-2020</td>\n",
       "    </tr>\n",
       "    <tr>\n",
       "      <th>1808</th>\n",
       "      <td>1808</td>\n",
       "      <td>MT049951.1</td>\n",
       "      <td>29903</td>\n",
       "      <td>2020-02-12</td>\n",
       "      <td>1.189910</td>\n",
       "      <td>Severe acute respiratory syndrome coronavirus 2 isolate SARS-CoV-2/Yunnan-01/human/2020/CHN, complete genome</td>\n",
       "      <td>china</td>\n",
       "      <td>homo sapiens</td>\n",
       "      <td>unknown</td>\n",
       "      <td>17-Jan-2020</td>\n",
       "    </tr>\n",
       "    <tr>\n",
       "      <th>1864</th>\n",
       "      <td>1864</td>\n",
       "      <td>MT039890.1</td>\n",
       "      <td>29903</td>\n",
       "      <td>2020-02-11</td>\n",
       "      <td>1.191611</td>\n",
       "      <td>Severe acute respiratory syndrome coronavirus 2 isolate SNU01, complete genome</td>\n",
       "      <td>south korea</td>\n",
       "      <td>homo sapiens</td>\n",
       "      <td>unknown</td>\n",
       "      <td>Jan-2020</td>\n",
       "    </tr>\n",
       "    <tr>\n",
       "      <th>1878</th>\n",
       "      <td>1878</td>\n",
       "      <td>NC_045512.2</td>\n",
       "      <td>29903</td>\n",
       "      <td>2020-03-13</td>\n",
       "      <td>1.189343</td>\n",
       "      <td>Severe acute respiratory syndrome coronavirus 2 isolate Wuhan-Hu-1, complete genome</td>\n",
       "      <td>china</td>\n",
       "      <td>homo sapiens</td>\n",
       "      <td>unknown</td>\n",
       "      <td>Dec-2019</td>\n",
       "    </tr>\n",
       "    <tr>\n",
       "      <th>2004</th>\n",
       "      <td>2004</td>\n",
       "      <td>MT135042.1</td>\n",
       "      <td>29903</td>\n",
       "      <td>2020-03-04</td>\n",
       "      <td>1.188778</td>\n",
       "      <td>Severe acute respiratory syndrome coronavirus 2 isolate SARS-CoV-2/231/human/2020/CHN, complete genome</td>\n",
       "      <td>china</td>\n",
       "      <td>homo sapiens</td>\n",
       "      <td>unknown</td>\n",
       "      <td>28-Jan-2020</td>\n",
       "    </tr>\n",
       "    <tr>\n",
       "      <th>2085</th>\n",
       "      <td>2085</td>\n",
       "      <td>LC529905.1</td>\n",
       "      <td>29903</td>\n",
       "      <td>2020-03-07</td>\n",
       "      <td>1.189343</td>\n",
       "      <td>Severe acute respiratory syndrome coronavirus 2 TKYE6182_2020 RNA, complete genome</td>\n",
       "      <td>japan</td>\n",
       "      <td>homo sapiens</td>\n",
       "      <td>unknown</td>\n",
       "      <td>2020-01</td>\n",
       "    </tr>\n",
       "    <tr>\n",
       "      <th>2641</th>\n",
       "      <td>2641</td>\n",
       "      <td>MT163716.1</td>\n",
       "      <td>29903</td>\n",
       "      <td>2020-03-10</td>\n",
       "      <td>1.192748</td>\n",
       "      <td>Severe acute respiratory syndrome coronavirus 2 isolate SARS-CoV-2/WA3-UW1/human/2020/USA, complete genome</td>\n",
       "      <td>usa</td>\n",
       "      <td>homo sapiens</td>\n",
       "      <td>unknown</td>\n",
       "      <td>27-Feb-2020</td>\n",
       "    </tr>\n",
       "  </tbody>\n",
       "</table>"
      ],
      "text/plain": [
       "<IPython.core.display.HTML object>"
      ]
     },
     "metadata": {},
     "output_type": "display_data"
    }
   ],
   "source": [
    "ncov = corona[corona[\"length\"] == 29903]\n",
    "display(HTML(ncov.drop(hidden_columns, axis=1).to_html()))"
   ]
  },
  {
   "cell_type": "markdown",
   "metadata": {},
   "source": [
    "All of them were reported this year, consistently with what we know."
   ]
  },
  {
   "cell_type": "code",
   "execution_count": 19,
   "metadata": {},
   "outputs": [
    {
     "data": {
      "text/markdown": [
       "Total ncov samples $n = 12$ samples "
      ],
      "text/plain": [
       "<IPython.core.display.Markdown object>"
      ]
     },
     "execution_count": 19,
     "metadata": {},
     "output_type": "execute_result"
    }
   ],
   "source": [
    "md(\"Total ncov samples $n = %i$ samples \"%(len(ncov)))"
   ]
  },
  {
   "cell_type": "markdown",
   "metadata": {},
   "source": [
    "From all these SARS-CoV-2 samples, which one we should use as a reference for a genome variation analysis? We should look at the collection date (which is different from the date in the genbank annotations) and use the ones collected in december 2019."
   ]
  },
  {
   "cell_type": "code",
   "execution_count": 20,
   "metadata": {},
   "outputs": [
    {
     "data": {
      "text/html": [
       "<table border=\"1\" class=\"dataframe\">\n",
       "  <thead>\n",
       "    <tr style=\"text-align: right;\">\n",
       "      <th></th>\n",
       "      <th>Unnamed: 0</th>\n",
       "      <th>id</th>\n",
       "      <th>length</th>\n",
       "      <th>date</th>\n",
       "      <th>information</th>\n",
       "      <th>description</th>\n",
       "      <th>country</th>\n",
       "      <th>host</th>\n",
       "      <th>strain</th>\n",
       "      <th>collection_date</th>\n",
       "    </tr>\n",
       "  </thead>\n",
       "  <tbody>\n",
       "    <tr>\n",
       "      <th>954</th>\n",
       "      <td>954</td>\n",
       "      <td>MN908947.3</td>\n",
       "      <td>29903</td>\n",
       "      <td>2020-03-18</td>\n",
       "      <td>1.189343</td>\n",
       "      <td>Severe acute respiratory syndrome coronavirus 2 isolate Wuhan-Hu-1, complete genome</td>\n",
       "      <td>china</td>\n",
       "      <td>homo sapiens</td>\n",
       "      <td>unknown</td>\n",
       "      <td>Dec-2019</td>\n",
       "    </tr>\n",
       "    <tr>\n",
       "      <th>1878</th>\n",
       "      <td>1878</td>\n",
       "      <td>NC_045512.2</td>\n",
       "      <td>29903</td>\n",
       "      <td>2020-03-13</td>\n",
       "      <td>1.189343</td>\n",
       "      <td>Severe acute respiratory syndrome coronavirus 2 isolate Wuhan-Hu-1, complete genome</td>\n",
       "      <td>china</td>\n",
       "      <td>homo sapiens</td>\n",
       "      <td>unknown</td>\n",
       "      <td>Dec-2019</td>\n",
       "    </tr>\n",
       "  </tbody>\n",
       "</table>"
      ],
      "text/plain": [
       "<IPython.core.display.HTML object>"
      ]
     },
     "metadata": {},
     "output_type": "display_data"
    }
   ],
   "source": [
    "reference_corona = corona[corona[\"collection_date\"] == \"Dec-2019\"]\n",
    "display(HTML(reference_corona.drop(hidden_columns, axis=1).to_html()))"
   ]
  },
  {
   "cell_type": "markdown",
   "metadata": {},
   "source": [
    "## 2.2. Host and country distribution\n",
    "\n",
    "Let's analyze the host and conuntry distribution for all time samples and novel samples (submissions after december 2019)"
   ]
  },
  {
   "cell_type": "code",
   "execution_count": 21,
   "metadata": {},
   "outputs": [
    {
     "data": {
      "image/png": "[encoded data removed]",
      "text/plain": [
       "<Figure size 1152x432 with 2 Axes>"
      ]
     },
     "metadata": {},
     "output_type": "display_data"
    }
   ],
   "source": [
    "fig, axes = plt.subplots(nrows=1, ncols=2, figsize=(16, 6))\n",
    "plt.subplots_adjust(wspace=0.4)\n",
    "\n",
    "countries = pd.DataFrame(novel_corona[\"country\"].value_counts())\n",
    "countries = countries[countries.index != \"unknown\"]\n",
    "countries.head(10).plot(kind = 'barh', ax=axes[0], title=\"novel samples\");\n",
    "\n",
    "countries = pd.DataFrame(corona[\"country\"].value_counts())\n",
    "countries = countries[countries.index != \"unknown\"]\n",
    "countries.head(10).plot(kind = 'barh', ax=axes[1], title=\"all time samples\");"
   ]
  },
  {
   "cell_type": "code",
   "execution_count": 22,
   "metadata": {},
   "outputs": [
    {
     "data": {
      "image/png": "[encoded data removed]",
      "text/plain": [
       "<Figure size 1152x432 with 2 Axes>"
      ]
     },
     "metadata": {},
     "output_type": "display_data"
    }
   ],
   "source": [
    "fig, axes = plt.subplots(nrows=1, ncols=2, figsize=(16, 6))\n",
    "plt.subplots_adjust(wspace=0.4)\n",
    "\n",
    "hosts = pd.DataFrame(novel_corona[\"host\"].value_counts())\n",
    "hosts = hosts[hosts.index != \"unknown\"]\n",
    "hosts.head(10).plot(kind = 'barh', ax=axes[0], title=\"novel samples\");\n",
    "\n",
    "hosts = pd.DataFrame(corona[\"host\"].value_counts())\n",
    "hosts = hosts[hosts.index != \"unknown\"]\n",
    "hosts.head(10).plot(kind = 'barh', ax=axes[1], title=\"all time samples\");"
   ]
  },
  {
   "cell_type": "markdown",
   "metadata": {},
   "source": [
    "# 3. Genome sequence analysis <a id=\"section3\"></a>\n",
    "\n",
    "Now we have a pretty good picture of the data available. But what does this virus actually do? What does it look like? In order to have a better understanding we should analyze the coding sequences on the genome, which determines the sequence of amino acids in the protein that the virus needs to replicate."
   ]
  },
  {
   "cell_type": "markdown",
   "metadata": {},
   "source": [
    "## 3.1. Coding regions in the genome\n",
    "\n",
    "Let's focus on a single sample to analyze the distribution of coding regions in the genome to have a better understading of the protein's structure of the virus. We'll look at the sample MN908947.3 which is the one we are going to use as a reference genome."
   ]
  },
  {
   "cell_type": "code",
   "execution_count": null,
   "metadata": {},
   "outputs": [],
   "source": []
  }
 ],
 "metadata": {
  "kernelspec": {
   "display_name": "Python 3",
   "language": "python",
   "name": "python3"
  },
  "language_info": {
   "codemirror_mode": {
    "name": "ipython",
    "version": 3
   },
   "file_extension": ".py",
   "mimetype": "text/x-python",
   "name": "python",
   "nbconvert_exporter": "python",
   "pygments_lexer": "ipython3",
   "version": "3.6.9"
  }
 },
 "nbformat": 4,
 "nbformat_minor": 4
}
