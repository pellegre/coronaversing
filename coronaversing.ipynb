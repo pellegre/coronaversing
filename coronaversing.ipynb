{
 "cells": [
  {
   "cell_type": "markdown",
   "metadata": {},
   "source": [
    "#### corona genome explorer"
   ]
  },
  {
   "cell_type": "code",
   "execution_count": 1,
   "metadata": {},
   "outputs": [],
   "source": [
    "from Bio import SeqIO\n",
    "import pandas as pd\n",
    "import seaborn as sb\n",
    "from matplotlib import pyplot as plt\n",
    "import zlib\n",
    "import os\n",
    "from IPython.display import display, HTML\n",
    "\n",
    "# data folders\n",
    "root_folder = \"./data/genbank/\"\n",
    "viruses = [\"coronaviridae\"]"
   ]
  },
  {
   "cell_type": "markdown",
   "metadata": {},
   "source": [
    "parse the genome for each virus sample (stored as a genbank file) and condense the information in a data frame."
   ]
  },
  {
   "cell_type": "code",
   "execution_count": 10,
   "metadata": {},
   "outputs": [
    {
     "name": "stdout",
     "output_type": "stream",
     "text": [
      "[+] reading genomes\n",
      "              id  length  information  \\\n",
      "0     LC063818.1   27904         8340   \n",
      "1     GU553365.1   29644         8863   \n",
      "2     KX425847.1   27709         8269   \n",
      "3     LP731475.1   28038         8372   \n",
      "4     LC063838.1   27481         8224   \n",
      "...          ...     ...          ...   \n",
      "3410  KJ569769.1   25422         7693   \n",
      "3411  JX860640.1   31028         9211   \n",
      "3412  KX348117.1   27685         8255   \n",
      "3413  MG197712.1   30497         9036   \n",
      "3414  KT253328.1   27270         8087   \n",
      "\n",
      "                                               sequence          country  \\\n",
      "0     CAATTCAACTAAACGAAATTTTGTCCTTCCGGCCGCATGTCCATGC...  Japan: Kumamoto   \n",
      "1     CGATCTCTTGTAGATCTGTTCTCTAAACGAACTTTAAAATCTGTGT...              USA   \n",
      "2     ACTGAAAATAGATATTATTATATATCTATTACACTAGCCTTGCGCT...            China   \n",
      "3     ACTTAAAAAGATTTTCTATCTACAGATAGTTAGCTCTTTTTCTAGA...          unknown   \n",
      "4     CAATTCAACTAAACGAAATTTTGTCCTTCCGGCCGCATGTCCATGC...    Japan: Miyagi   \n",
      "...                                                 ...              ...   \n",
      "3410  ACATGGGGACTAAAGATAAAAATTATAGCATTAGTCTATAATTTTA...        USA: Ohio   \n",
      "3411  GATTGCGAGCGATTTGCGTGCGTGCATCCCGCTTCACTGATCTCTT...      South Korea   \n",
      "3412  ACTGAAAATAGATATTATTATATATCTATTACACTAGCCTTGTGCT...            China   \n",
      "3413  CTATGCTTGTGGGCGTAGATTTTTCATAGTGGTGTTTATATTCATT...            China   \n",
      "3414  AAATTTCATTTGGGTTGCAACAGTTTGGAAATAAGTGCTGTGCGTC...     Saudi Arabia   \n",
      "\n",
      "     collection_date                   host            strain  \n",
      "0            2014-01  Sus scrofa domesticus    KMM-2/JPN/2014  \n",
      "1        05-Dec-2007   Chlorocebus aethiops         HKU-39849  \n",
      "2               2014          Gallus gallus  ck/CH/LJL/140734  \n",
      "3            unknown                unknown           unknown  \n",
      "4            2014-07  Sus scrofa domesticus    MYG-1/JPN/2014  \n",
      "...              ...                    ...               ...  \n",
      "3410     13-Feb-2014                    pig            IN2847  \n",
      "3411            2008                    dog               K37  \n",
      "3412        Jul-2012          Gallus gallus  ck/CH/LAH/120721  \n",
      "3413     09-Jun-2015                unknown            BJ-165  \n",
      "3414            2014    Camelus dromedarius           unknown  \n",
      "\n",
      "[3415 rows x 8 columns]\n"
     ]
    }
   ],
   "source": [
    "for vrs in viruses:    \n",
    "    print (\"[+] reading genomes\")\n",
    "    \n",
    "    # define data frame structure\n",
    "    feature_columns = [\"country\", \"collection_date\", \"host\", \"strain\"]\n",
    "    sample_columns = [\"id\", \"length\", \"information\", \"sequence\"]\n",
    "    total_columns = sample_columns + feature_columns\n",
    "    vrs_frame = {i:list() for i in total_columns}\n",
    "\n",
    "    # loop over gb files\n",
    "    data_folder = root_folder + vrs + \"/\"\n",
    "    for filename in os.listdir(data_folder):\n",
    "        if filename.endswith(\".gb\"): \n",
    "            for seq_record in SeqIO.parse(data_folder + filename, \"genbank\"):\n",
    "                \n",
    "                # get several additional variables from genbank file featues (if availbale)\n",
    "                for ftrs in seq_record.features:\n",
    "                    if ftrs.type == \"source\":                        \n",
    "                        for var in feature_columns:\n",
    "                            if var in ftrs.qualifiers:\n",
    "                                vrs_frame[var].append(ftrs.qualifiers[var][0])\n",
    "                            else:\n",
    "                                vrs_frame[var].append(\"unknown\")\n",
    "                        break\n",
    "                    else:\n",
    "                        print(\"not source on : \", filename)\n",
    "                    \n",
    "                \n",
    "                # compress virus genome to get an idea of the amount of information. \n",
    "                info = len(zlib.compress(str(seq_record.seq).encode('utf-8')))\n",
    "\n",
    "                # genome length\n",
    "                genome_length = len(seq_record.seq)\n",
    "\n",
    "                # genome sequence (as string)\n",
    "                genome_sequence = str(seq_record.seq)\n",
    "\n",
    "                vrs_frame[\"id\"].append(seq_record.id)\n",
    "                vrs_frame[\"information\"].append(info)\n",
    "                vrs_frame[\"length\"].append(genome_length)\n",
    "                vrs_frame[\"sequence\"].append(genome_sequence)\n",
    "        else:\n",
    "            continue\n",
    "\n",
    "    df = pd.DataFrame.from_dict(vrs_frame)\n",
    "    print(df)"
   ]
  },
  {
   "cell_type": "code",
   "execution_count": null,
   "metadata": {},
   "outputs": [],
   "source": []
  }
 ],
 "metadata": {
  "kernelspec": {
   "display_name": "Python 3",
   "language": "python",
   "name": "python3"
  },
  "language_info": {
   "codemirror_mode": {
    "name": "ipython",
    "version": 3
   },
   "file_extension": ".py",
   "mimetype": "text/x-python",
   "name": "python",
   "nbconvert_exporter": "python",
   "pygments_lexer": "ipython3",
   "version": "3.6.9"
  }
 },
 "nbformat": 4,
 "nbformat_minor": 4
}
