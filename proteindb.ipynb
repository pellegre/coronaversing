{
 "cells": [
  {
   "cell_type": "markdown",
   "metadata": {},
   "source": [
    "# Coronavirus Reverse Engineering\n",
    "\n",
    "## Protein Recognition and Classification\n",
    "\n",
    "In a previous [notebook](./coronaversing.ipynb) we did an exploratory analysis of the data we collected from online sources and created a database of regions for each genome. The portions of the genome for each sample is classified into 3 types: ORF (a potential coding frame), UTR (untranslated regions at the 5' and 3' ends of the genome) and ING (intergenic region, located between 2 ORFs). Each portion has a label assigned, for example an UTR region could be \"3UTR\" or \"5UTR\" and ORFs could be \"S\", \"N\" or \"ORF1ab\", and so on, depending on which protein is codifying. The idea is to have a standardized mechanism to access regions of the genome common to all coronavirus samples to perform large scale analysis efficiently.\n",
    "\n",
    "At this point, the labels for each region are left \"undefined\", since we need to execute a detailed analysis of each frame to recognize what is coding for. For example, given a coronavirus genome and the list of ORFs, how do we know which one is the ORF1a and how to join it with ORF1b to get ORF1ab? These are (usually) the first two ORFs that combined make up two thirds of the genome. Joining them it's tricker, since we have to locate the slippery sequence and perform a -1 frame shift. Sometimes there is an ORF in the 5'UTR region and the \"untranslated region\" now becomes potentially translatable. \n",
    "\n",
    "How do we know where the structural proteins coding segment are? Coronaviruses encode three conserved membrane-associated proteins that are incorporated in virions: spike (S), envelope (E), membrane (M) and a nucleoprotein (N). These four proteins seems to occur in the order S–E–M–N but between those genes, there are species-specific accessory proteins. How do we recognize these and find common sequences to classify them within a specie?\n",
    "\n",
    "Some of the details that we have to figure out.\n",
    "\n",
    "**TABLE OF CONTENTS**\n",
    "\n",
    "* [Machine Learning ORF Tagging Algorithm](#section1)\n",
    "   * [Exploring ORF1a](#section2)\n",
    "   * [Training samples (CDS)](#section3)"
   ]
  },
  {
   "cell_type": "code",
   "execution_count": 292,
   "metadata": {},
   "outputs": [],
   "source": [
    "from matplotlib import pyplot as plt\n",
    "\n",
    "from IPython.display import display, HTML\n",
    "from IPython.display import Markdown as md\n",
    "from IPython.core.display import Image\n",
    "import time\n",
    "from sklearn.linear_model import LinearRegression\n",
    "\n",
    "from reportlab.lib import colors\n",
    "from reportlab.lib.units import cm\n",
    "\n",
    "import matplotlib.pyplot as plt\n",
    "import forgi.visual.mplotlib as fvm\n",
    "import forgi\n",
    "\n",
    "from Bio.Seq import Seq\n",
    "from Bio import Entrez\n",
    "from Bio.Graphics import GenomeDiagram\n",
    "from Bio import SeqIO\n",
    "from Bio.SeqFeature import SeqFeature, FeatureLocation\n",
    "from Bio.Alphabet import IUPAC\n",
    "from Bio.SeqUtils import seq3\n",
    "from Bio import Align\n",
    "from Bio.SeqRecord import SeqRecord\n",
    "\n",
    "import bisect \n",
    "import pandas as pd\n",
    "import seaborn as sb\n",
    "import numpy as np\n",
    "import seaborn as sns\n",
    "from scipy import stats\n",
    "import math\n",
    "import zlib\n",
    "\n",
    "from intervaltree import Interval, IntervalTree\n",
    "from sklearn.feature_extraction.text import TfidfVectorizer\n",
    "from stop_words import get_stop_words\n",
    "\n",
    "import datetime\n",
    "import os\n",
    "import lzma as xz\n",
    "\n",
    "# file periodically removed to update with the latest data\n",
    "cache_vrs_file = \".cache_vrs.pkl\" \n",
    "cache_cds_file = \".cache_cds.pkl\" \n",
    "cache_regions_file = \".cache_regions.pkl\" \n",
    "\n",
    "hidden_columns = [\"sequence\", \"file_path\"]\n",
    "hidden_cds_columns = [\"translation\", \"file_path\", \"location\"]\n",
    "hidden_regions_columns = [\"id\", \"rna\", \"protein\", \"path\"]\n",
    "\n",
    "SLIPPERY_SEQUENCE = \"UUUAAAC\"\n",
    "\n",
    "if os.path.isfile(cache_regions_file):\n",
    "    corona_db = pd.read_pickle(cache_regions_file)\n",
    "else:\n",
    "    %run ./coronaversing.ipynb\n",
    "    \n",
    "if os.path.isfile(cache_vrs_file):\n",
    "    corona = pd.read_pickle(cache_vrs_file)\n",
    "    corona_cds = pd.read_pickle(cache_cds_file)\n",
    "    \n",
    "    # set index\n",
    "    corona = corona.set_index(\"id\")\n",
    "    corona_cds = corona_cds.set_index(\"protein_id\")\n",
    "    \n",
    "    # at this point we would like to analyze pretty much complete genomes\n",
    "    corona_incomplete = corona[(corona[\"unknown\"] > 0.001) | (corona[\"length\"] < 27000)]\n",
    "\n",
    "    # drop duplicates\n",
    "    corona = corona[~corona.index.duplicated(keep='first')]\n",
    "    corona_cds = corona_cds[~corona_cds.index.duplicated(keep='first')]\n",
    "else:\n",
    "    %run ./coronaversing.ipynb\n",
    "    \n",
    "corona_db = corona_db[~corona_db[\"id\"].isin(corona_incomplete.index)]\n",
    "corona_cds = corona_cds[~corona_cds[\"oid\"].isin(corona_incomplete.index)]"
   ]
  },
  {
   "cell_type": "markdown",
   "metadata": {},
   "source": [
    "# 1. Machine Learning ORF Tagging Algorithm <a id=\"section1\"></a>\n",
    "\n",
    "Before introducing machine learning concepts for protein classification, let's take a look at the data we have. This is how the current DB looks like for a given genome (we'll use NC_045512.2 as a reference). "
   ]
  },
  {
   "cell_type": "code",
   "execution_count": 6,
   "metadata": {},
   "outputs": [
    {
     "data": {
      "text/html": [
       "<table border=\"1\" class=\"dataframe\">\n",
       "  <thead>\n",
       "    <tr style=\"text-align: right;\">\n",
       "      <th></th>\n",
       "      <th>type</th>\n",
       "      <th>label</th>\n",
       "      <th>date</th>\n",
       "      <th>collection</th>\n",
       "      <th>start</th>\n",
       "      <th>end</th>\n",
       "      <th>length</th>\n",
       "      <th>unknown</th>\n",
       "    </tr>\n",
       "    <tr>\n",
       "      <th>rid</th>\n",
       "      <th></th>\n",
       "      <th></th>\n",
       "      <th></th>\n",
       "      <th></th>\n",
       "      <th></th>\n",
       "      <th></th>\n",
       "      <th></th>\n",
       "      <th></th>\n",
       "    </tr>\n",
       "  </thead>\n",
       "  <tbody>\n",
       "    <tr>\n",
       "      <th>NC_045512.2|UTR@00000</th>\n",
       "      <td>UTR</td>\n",
       "      <td>5UTR</td>\n",
       "      <td>2020-03-13</td>\n",
       "      <td>Dec-2019</td>\n",
       "      <td>0</td>\n",
       "      <td>265</td>\n",
       "      <td>265</td>\n",
       "      <td>0.0</td>\n",
       "    </tr>\n",
       "    <tr>\n",
       "      <th>NC_045512.2|ORF@00265</th>\n",
       "      <td>ORF</td>\n",
       "      <td>UNDEF</td>\n",
       "      <td>2020-03-13</td>\n",
       "      <td>Dec-2019</td>\n",
       "      <td>265</td>\n",
       "      <td>13483</td>\n",
       "      <td>13218</td>\n",
       "      <td>0.0</td>\n",
       "    </tr>\n",
       "    <tr>\n",
       "      <th>NC_045512.2|ING@13483</th>\n",
       "      <td>ING</td>\n",
       "      <td>UNDEF</td>\n",
       "      <td>2020-03-13</td>\n",
       "      <td>Dec-2019</td>\n",
       "      <td>13483</td>\n",
       "      <td>13767</td>\n",
       "      <td>284</td>\n",
       "      <td>0.0</td>\n",
       "    </tr>\n",
       "    <tr>\n",
       "      <th>NC_045512.2|ORF@13767</th>\n",
       "      <td>ORF</td>\n",
       "      <td>UNDEF</td>\n",
       "      <td>2020-03-13</td>\n",
       "      <td>Dec-2019</td>\n",
       "      <td>13767</td>\n",
       "      <td>21555</td>\n",
       "      <td>7788</td>\n",
       "      <td>0.0</td>\n",
       "    </tr>\n",
       "    <tr>\n",
       "      <th>NC_045512.2|ORF@21535</th>\n",
       "      <td>ORF</td>\n",
       "      <td>UNDEF</td>\n",
       "      <td>2020-03-13</td>\n",
       "      <td>Dec-2019</td>\n",
       "      <td>21535</td>\n",
       "      <td>25384</td>\n",
       "      <td>3849</td>\n",
       "      <td>0.0</td>\n",
       "    </tr>\n",
       "    <tr>\n",
       "      <th>NC_045512.2|ORF@25331</th>\n",
       "      <td>ORF</td>\n",
       "      <td>UNDEF</td>\n",
       "      <td>2020-03-13</td>\n",
       "      <td>Dec-2019</td>\n",
       "      <td>25331</td>\n",
       "      <td>25448</td>\n",
       "      <td>117</td>\n",
       "      <td>0.0</td>\n",
       "    </tr>\n",
       "    <tr>\n",
       "      <th>NC_045512.2|ORF@25392</th>\n",
       "      <td>ORF</td>\n",
       "      <td>UNDEF</td>\n",
       "      <td>2020-03-13</td>\n",
       "      <td>Dec-2019</td>\n",
       "      <td>25392</td>\n",
       "      <td>26220</td>\n",
       "      <td>828</td>\n",
       "      <td>0.0</td>\n",
       "    </tr>\n",
       "    <tr>\n",
       "      <th>NC_045512.2|ORF@26182</th>\n",
       "      <td>ORF</td>\n",
       "      <td>UNDEF</td>\n",
       "      <td>2020-03-13</td>\n",
       "      <td>Dec-2019</td>\n",
       "      <td>26182</td>\n",
       "      <td>26281</td>\n",
       "      <td>99</td>\n",
       "      <td>0.0</td>\n",
       "    </tr>\n",
       "    <tr>\n",
       "      <th>NC_045512.2|ORF@26244</th>\n",
       "      <td>ORF</td>\n",
       "      <td>UNDEF</td>\n",
       "      <td>2020-03-13</td>\n",
       "      <td>Dec-2019</td>\n",
       "      <td>26244</td>\n",
       "      <td>26472</td>\n",
       "      <td>228</td>\n",
       "      <td>0.0</td>\n",
       "    </tr>\n",
       "    <tr>\n",
       "      <th>NC_045512.2|ING@26472</th>\n",
       "      <td>ING</td>\n",
       "      <td>UNDEF</td>\n",
       "      <td>2020-03-13</td>\n",
       "      <td>Dec-2019</td>\n",
       "      <td>26472</td>\n",
       "      <td>26522</td>\n",
       "      <td>50</td>\n",
       "      <td>0.0</td>\n",
       "    </tr>\n",
       "    <tr>\n",
       "      <th>NC_045512.2|ORF@26522</th>\n",
       "      <td>ORF</td>\n",
       "      <td>UNDEF</td>\n",
       "      <td>2020-03-13</td>\n",
       "      <td>Dec-2019</td>\n",
       "      <td>26522</td>\n",
       "      <td>27191</td>\n",
       "      <td>669</td>\n",
       "      <td>0.0</td>\n",
       "    </tr>\n",
       "    <tr>\n",
       "      <th>NC_045512.2|ING@27191</th>\n",
       "      <td>ING</td>\n",
       "      <td>UNDEF</td>\n",
       "      <td>2020-03-13</td>\n",
       "      <td>Dec-2019</td>\n",
       "      <td>27191</td>\n",
       "      <td>27201</td>\n",
       "      <td>10</td>\n",
       "      <td>0.0</td>\n",
       "    </tr>\n",
       "    <tr>\n",
       "      <th>NC_045512.2|ORF@27201</th>\n",
       "      <td>ORF</td>\n",
       "      <td>UNDEF</td>\n",
       "      <td>2020-03-13</td>\n",
       "      <td>Dec-2019</td>\n",
       "      <td>27201</td>\n",
       "      <td>27387</td>\n",
       "      <td>186</td>\n",
       "      <td>0.0</td>\n",
       "    </tr>\n",
       "    <tr>\n",
       "      <th>NC_045512.2|ING@27387</th>\n",
       "      <td>ING</td>\n",
       "      <td>UNDEF</td>\n",
       "      <td>2020-03-13</td>\n",
       "      <td>Dec-2019</td>\n",
       "      <td>27387</td>\n",
       "      <td>27393</td>\n",
       "      <td>6</td>\n",
       "      <td>0.0</td>\n",
       "    </tr>\n",
       "    <tr>\n",
       "      <th>NC_045512.2|ORF@27393</th>\n",
       "      <td>ORF</td>\n",
       "      <td>UNDEF</td>\n",
       "      <td>2020-03-13</td>\n",
       "      <td>Dec-2019</td>\n",
       "      <td>27393</td>\n",
       "      <td>27759</td>\n",
       "      <td>366</td>\n",
       "      <td>0.0</td>\n",
       "    </tr>\n",
       "    <tr>\n",
       "      <th>NC_045512.2|ORF@27755</th>\n",
       "      <td>ORF</td>\n",
       "      <td>UNDEF</td>\n",
       "      <td>2020-03-13</td>\n",
       "      <td>Dec-2019</td>\n",
       "      <td>27755</td>\n",
       "      <td>27887</td>\n",
       "      <td>132</td>\n",
       "      <td>0.0</td>\n",
       "    </tr>\n",
       "    <tr>\n",
       "      <th>NC_045512.2|ING@27887</th>\n",
       "      <td>ING</td>\n",
       "      <td>UNDEF</td>\n",
       "      <td>2020-03-13</td>\n",
       "      <td>Dec-2019</td>\n",
       "      <td>27887</td>\n",
       "      <td>27893</td>\n",
       "      <td>6</td>\n",
       "      <td>0.0</td>\n",
       "    </tr>\n",
       "    <tr>\n",
       "      <th>NC_045512.2|ORF@27893</th>\n",
       "      <td>ORF</td>\n",
       "      <td>UNDEF</td>\n",
       "      <td>2020-03-13</td>\n",
       "      <td>Dec-2019</td>\n",
       "      <td>27893</td>\n",
       "      <td>28259</td>\n",
       "      <td>366</td>\n",
       "      <td>0.0</td>\n",
       "    </tr>\n",
       "    <tr>\n",
       "      <th>NC_045512.2|ING@28259</th>\n",
       "      <td>ING</td>\n",
       "      <td>UNDEF</td>\n",
       "      <td>2020-03-13</td>\n",
       "      <td>Dec-2019</td>\n",
       "      <td>28259</td>\n",
       "      <td>28273</td>\n",
       "      <td>14</td>\n",
       "      <td>0.0</td>\n",
       "    </tr>\n",
       "    <tr>\n",
       "      <th>NC_045512.2|ORF@28273</th>\n",
       "      <td>ORF</td>\n",
       "      <td>UNDEF</td>\n",
       "      <td>2020-03-13</td>\n",
       "      <td>Dec-2019</td>\n",
       "      <td>28273</td>\n",
       "      <td>29533</td>\n",
       "      <td>1260</td>\n",
       "      <td>0.0</td>\n",
       "    </tr>\n",
       "    <tr>\n",
       "      <th>NC_045512.2|ING@29533</th>\n",
       "      <td>ING</td>\n",
       "      <td>UNDEF</td>\n",
       "      <td>2020-03-13</td>\n",
       "      <td>Dec-2019</td>\n",
       "      <td>29533</td>\n",
       "      <td>29557</td>\n",
       "      <td>24</td>\n",
       "      <td>0.0</td>\n",
       "    </tr>\n",
       "    <tr>\n",
       "      <th>NC_045512.2|ORF@29557</th>\n",
       "      <td>ORF</td>\n",
       "      <td>UNDEF</td>\n",
       "      <td>2020-03-13</td>\n",
       "      <td>Dec-2019</td>\n",
       "      <td>29557</td>\n",
       "      <td>29674</td>\n",
       "      <td>117</td>\n",
       "      <td>0.0</td>\n",
       "    </tr>\n",
       "    <tr>\n",
       "      <th>NC_045512.2|UTR@29674</th>\n",
       "      <td>UTR</td>\n",
       "      <td>3UTR</td>\n",
       "      <td>2020-03-13</td>\n",
       "      <td>Dec-2019</td>\n",
       "      <td>29674</td>\n",
       "      <td>29903</td>\n",
       "      <td>229</td>\n",
       "      <td>0.0</td>\n",
       "    </tr>\n",
       "  </tbody>\n",
       "</table>"
      ],
      "text/plain": [
       "<IPython.core.display.HTML object>"
      ]
     },
     "metadata": {},
     "output_type": "display_data"
    }
   ],
   "source": [
    "ncov = corona_db[corona_db[\"id\"] == \"NC_045512.2\"]\n",
    "display(HTML(ncov.drop(hidden_regions_columns, axis=1).to_html()))"
   ]
  },
  {
   "cell_type": "markdown",
   "metadata": {},
   "source": [
    "As you might guess, ORF@00265 and ORF@13767 are ORF1a (\\~13.2kbp) and ORF1b (\\~7.7kpb). Ideally, we would like to remove ORF1b from our database and replace it with ORF1ab, since that is consistent to what happens in reality : the first gene is translated as ORFs 1a and 1ab, with 1ab resulting from a pseudoknot-induced -1 ribosomal frame shifting event at a slippery sequence of UUUAAAC at the ORF1a/ORF1b junction, which we will have to find to get the correct aminoacid sequence of the 1ab polyprotein which it's around ~21kbp.\n",
    "\n",
    "The first open reading frame ORF@21535 downstream ORF1ab encodes the spike (S) glycoprotein and the size it's around ~3.8 kbps. E, M and N are encoded by ORF@26244, ORF@26522 and ORF@28273 respectively. We know this because the genbank [entry](https://www.ncbi.nlm.nih.gov/nuccore/NC_045512.2) at NCBI contains annotations with the name of each CDS. This annotations aren't always available, so we should develop a method to generically tag each coding region with the protein it codifies.\n",
    "\n",
    "Besides the polyprotein and the structural proteins there are a few other coding segments which we are going to deal later.\n",
    "\n",
    "## 1.1 Exploring ORF1a <a id=\"section2\"></a>\n",
    "\n",
    "By looking at ORF1 on the sample above, seems natural to apply the following algorithm over our entire database.\n",
    "\n",
    "* Find the 2 biggest ORFs on the genome. The bigger one is ORF1a and the other is ORF1b.\n",
    "* Whatever it's on the left of ORF1a it's 5UTR (regardless if there are any additional ORFs on that region).\n",
    "* We have to find the slippery sequence near the end of ORF1a and perform the frame shift to get the aminoacid sequence of ORF1ab. \n",
    "\n",
    "Before going there, let's plot the distribution of the biggest ORF for each genome to spot for anomalies."
   ]
  },
  {
   "cell_type": "code",
   "execution_count": 7,
   "metadata": {},
   "outputs": [
    {
     "data": {
      "image/png": "[encoded data removed]",
      "text/plain": [
       "<Figure size 1152x432 with 2 Axes>"
      ]
     },
     "metadata": {
      "needs_background": "light"
     },
     "output_type": "display_data"
    }
   ],
   "source": [
    "putative_orf1a = corona_db.groupby(\"id\")[\"length\"].max()\n",
    "putative_orf1b = corona_db.groupby(\"id\")[\"length\"].apply(lambda x: x.nlargest(2).min())\n",
    "\n",
    "fig, axs = plt.subplots(ncols=2, figsize=(16, 6));\n",
    "sns.distplot(putative_orf1a, kde=False, ax=axs[0]);\n",
    "sns.distplot(putative_orf1b, kde=False, ax=axs[1]);\n",
    "\n",
    "# do some stats\n",
    "mean_orf1a = putative_orf1a.mean()\n",
    "std_orf1a = putative_orf1a.std()\n",
    "mean_orf1b = putative_orf1b.mean()\n",
    "std_orf1b = putative_orf1b.std()"
   ]
  },
  {
   "cell_type": "code",
   "execution_count": 8,
   "metadata": {},
   "outputs": [
    {
     "name": "stdout",
     "output_type": "stream",
     "text": [
      "[+] ORF1a mean size = 12825.50 bp\n",
      "[+] ORF1b mean size = 7833.86 bp\n",
      "[+] ORF1a std = 628.30 bp\n",
      "[+] ORF1b std = 189.33 bp\n"
     ]
    }
   ],
   "source": [
    "print(\"[+] ORF1a mean size = %.2f bp\" % mean_orf1a)\n",
    "print(\"[+] ORF1b mean size = %.2f bp\" % mean_orf1b)\n",
    "print(\"[+] ORF1a std = %.2f bp\" % std_orf1a)\n",
    "print(\"[+] ORF1b std = %.2f bp\" % std_orf1b)"
   ]
  },
  {
   "cell_type": "markdown",
   "metadata": {},
   "source": [
    "The average size of both ORFs are consistent with the information available about the virus. But it's clear from the histogram that there are quite a few outliers. Let's set the lower limit for the gene size to 3 standard deviations."
   ]
  },
  {
   "cell_type": "code",
   "execution_count": 9,
   "metadata": {},
   "outputs": [
    {
     "name": "stdout",
     "output_type": "stream",
     "text": [
      "[+] Total of outliers (orf1a) : 22\n",
      "[+] Total of outliers (orf1b) : 26\n"
     ]
    }
   ],
   "source": [
    "lower_limit_orf1a = mean_orf1a - 3 * std_orf1a\n",
    "lower_limit_orf1b = mean_orf1b - 3 * std_orf1b\n",
    "\n",
    "outliers_orf1a = putative_orf1a[putative_orf1a < lower_limit_orf1a]\n",
    "outliers_orf1b = putative_orf1b[putative_orf1b < lower_limit_orf1b]\n",
    "\n",
    "print(\"[+] Total of outliers (orf1a) :\", len(outliers_orf1a))\n",
    "print(\"[+] Total of outliers (orf1b) :\", len(outliers_orf1b))"
   ]
  },
  {
   "cell_type": "markdown",
   "metadata": {},
   "source": [
    "So what's going on with this samples? Let's see how many belongs to both groups of outliers. Those are definitely fishy samples."
   ]
  },
  {
   "cell_type": "code",
   "execution_count": 10,
   "metadata": {},
   "outputs": [
    {
     "data": {
      "text/html": [
       "<table border=\"1\" class=\"dataframe\">\n",
       "  <thead>\n",
       "    <tr style=\"text-align: right;\">\n",
       "      <th></th>\n",
       "      <th>length</th>\n",
       "      <th>date</th>\n",
       "      <th>information</th>\n",
       "      <th>description</th>\n",
       "      <th>unknown</th>\n",
       "      <th>country</th>\n",
       "      <th>host</th>\n",
       "      <th>strain</th>\n",
       "      <th>collection_date</th>\n",
       "    </tr>\n",
       "    <tr>\n",
       "      <th>id</th>\n",
       "      <th></th>\n",
       "      <th></th>\n",
       "      <th></th>\n",
       "      <th></th>\n",
       "      <th></th>\n",
       "      <th></th>\n",
       "      <th></th>\n",
       "      <th></th>\n",
       "      <th></th>\n",
       "    </tr>\n",
       "  </thead>\n",
       "  <tbody>\n",
       "    <tr>\n",
       "      <th>AY313906.1</th>\n",
       "      <td>29754</td>\n",
       "      <td>2005-02-28</td>\n",
       "      <td>1.187648</td>\n",
       "      <td>SARS coronavirus GD69, complete genome</td>\n",
       "      <td>0.0</td>\n",
       "      <td>china</td>\n",
       "      <td>unknown</td>\n",
       "      <td>unknown</td>\n",
       "      <td>unknown</td>\n",
       "    </tr>\n",
       "    <tr>\n",
       "      <th>AY613948.1</th>\n",
       "      <td>29730</td>\n",
       "      <td>2005-02-28</td>\n",
       "      <td>1.189343</td>\n",
       "      <td>SARS coronavirus PC4-13, complete genome</td>\n",
       "      <td>0.0</td>\n",
       "      <td>china</td>\n",
       "      <td>palm civet</td>\n",
       "      <td>unknown</td>\n",
       "      <td>unknown</td>\n",
       "    </tr>\n",
       "    <tr>\n",
       "      <th>MN486588.1</th>\n",
       "      <td>27933</td>\n",
       "      <td>2020-02-10</td>\n",
       "      <td>1.261989</td>\n",
       "      <td>Porcine epidemic diarrhea virus strain Ah2016f2, complete genome</td>\n",
       "      <td>0.0</td>\n",
       "      <td>china</td>\n",
       "      <td>porcine</td>\n",
       "      <td>Ah2016f2</td>\n",
       "      <td>Feb-2016</td>\n",
       "    </tr>\n",
       "    <tr>\n",
       "      <th>FN430415.1</th>\n",
       "      <td>27593</td>\n",
       "      <td>2013-07-03</td>\n",
       "      <td>1.285347</td>\n",
       "      <td>Infectious bronchitis virus NGA/A116E7/2006, complete genome</td>\n",
       "      <td>0.0</td>\n",
       "      <td>nigeria</td>\n",
       "      <td>unknown</td>\n",
       "      <td>unknown</td>\n",
       "      <td>2006</td>\n",
       "    </tr>\n",
       "    <tr>\n",
       "      <th>MH687975.1</th>\n",
       "      <td>27254</td>\n",
       "      <td>2018-11-12</td>\n",
       "      <td>1.293996</td>\n",
       "      <td>Betacoronavirus sp. strain VZ_BetaCoV_22054_56, partial genome</td>\n",
       "      <td>0.0</td>\n",
       "      <td>viet nam</td>\n",
       "      <td>rattus argentiventer</td>\n",
       "      <td>VZ_BetaCoV_22054_56</td>\n",
       "      <td>09-Dec-2013</td>\n",
       "    </tr>\n",
       "    <tr>\n",
       "      <th>EU526388.1</th>\n",
       "      <td>27715</td>\n",
       "      <td>2009-01-14</td>\n",
       "      <td>1.274210</td>\n",
       "      <td>Infectious bronchitis virus strain A2, complete genome</td>\n",
       "      <td>0.0</td>\n",
       "      <td>china</td>\n",
       "      <td>chicken</td>\n",
       "      <td>A2</td>\n",
       "      <td>unknown</td>\n",
       "    </tr>\n",
       "    <tr>\n",
       "      <th>AY351680.1</th>\n",
       "      <td>29749</td>\n",
       "      <td>2003-08-03</td>\n",
       "      <td>1.183152</td>\n",
       "      <td>SARS coronavirus ZMY 1, complete genome</td>\n",
       "      <td>0.0</td>\n",
       "      <td>unknown</td>\n",
       "      <td>unknown</td>\n",
       "      <td>unknown</td>\n",
       "      <td>unknown</td>\n",
       "    </tr>\n",
       "    <tr>\n",
       "      <th>AY297028.1</th>\n",
       "      <td>29715</td>\n",
       "      <td>2003-05-19</td>\n",
       "      <td>1.188213</td>\n",
       "      <td>SARS coronavirus ZJ01, complete genome</td>\n",
       "      <td>0.0</td>\n",
       "      <td>unknown</td>\n",
       "      <td>unknown</td>\n",
       "      <td>unknown</td>\n",
       "      <td>unknown</td>\n",
       "    </tr>\n",
       "    <tr>\n",
       "      <th>AY613947.1</th>\n",
       "      <td>29730</td>\n",
       "      <td>2005-02-28</td>\n",
       "      <td>1.187648</td>\n",
       "      <td>SARS coronavirus GZ0402, complete genome</td>\n",
       "      <td>0.0</td>\n",
       "      <td>china</td>\n",
       "      <td>unknown</td>\n",
       "      <td>unknown</td>\n",
       "      <td>unknown</td>\n",
       "    </tr>\n",
       "    <tr>\n",
       "      <th>AY613949.1</th>\n",
       "      <td>29730</td>\n",
       "      <td>2005-02-28</td>\n",
       "      <td>1.188213</td>\n",
       "      <td>SARS coronavirus PC4-136, complete genome</td>\n",
       "      <td>0.0</td>\n",
       "      <td>china</td>\n",
       "      <td>palm civet</td>\n",
       "      <td>unknown</td>\n",
       "      <td>unknown</td>\n",
       "    </tr>\n",
       "    <tr>\n",
       "      <th>HM776941.1</th>\n",
       "      <td>28580</td>\n",
       "      <td>2012-10-11</td>\n",
       "      <td>1.244400</td>\n",
       "      <td>Transmissible gastroenteritis virus isolate AYU, complete genome</td>\n",
       "      <td>0.0</td>\n",
       "      <td>china</td>\n",
       "      <td>swine</td>\n",
       "      <td>unknown</td>\n",
       "      <td>2009</td>\n",
       "    </tr>\n",
       "  </tbody>\n",
       "</table>"
      ],
      "text/plain": [
       "<IPython.core.display.HTML object>"
      ]
     },
     "metadata": {},
     "output_type": "display_data"
    }
   ],
   "source": [
    "fishy_samples = list(set(outliers_orf1b.index).intersection(outliers_orf1a.index))\n",
    "display(HTML(corona.loc[fishy_samples].drop(hidden_columns, axis=1).to_html()))"
   ]
  },
  {
   "cell_type": "markdown",
   "metadata": {},
   "source": [
    "A lot of samples are  old and seems like they might be quite different from the reference genome of SARA-CoV-2 we are looking. I think it's safe to remove this samples from our database. We should get the starting point for each ORF1a sequence and whatever is on the left we should define it as a 5UTR region. What is the distribution of the value for the starting codon of ORF1a? "
   ]
  },
  {
   "cell_type": "code",
   "execution_count": 11,
   "metadata": {},
   "outputs": [
    {
     "name": "stdout",
     "output_type": "stream",
     "text": [
      "[+] ORF1a start mean = 294.78 bp\n",
      "[+] ORF1a start std = 516.21 bp\n"
     ]
    },
    {
     "data": {
      "image/png": "[encoded data removed]",
      "text/plain": [
       "<Figure size 1152x432 with 1 Axes>"
      ]
     },
     "metadata": {
      "needs_background": "light"
     },
     "output_type": "display_data"
    }
   ],
   "source": [
    "plt.figure(figsize=(16, 6))\n",
    "orf1a = corona_db.sort_values(\"length\", ascending=False).drop_duplicates([\"id\"],keep=\"first\")\n",
    "\n",
    "# get start codons\n",
    "orf1a_start = orf1a[\"start\"]\n",
    "sns.distplot(orf1a_start, kde=False);\n",
    "\n",
    "# do some stats\n",
    "mean_start_orf1a = orf1a_start.mean()\n",
    "std_start_orf1a = orf1a_start.std()\n",
    "\n",
    "print(\"[+] ORF1a start mean = %.2f bp\" % mean_start_orf1a)\n",
    "print(\"[+] ORF1a start std = %.2f bp\" % std_start_orf1a)"
   ]
  },
  {
   "cell_type": "markdown",
   "metadata": {},
   "source": [
    "Again, there are a few outliers with starting codons way further from the average one which is \\~280bp downstream the 5' end of the genome. We should define a cutoff (3 sigma) for this value and inspect the outliers ."
   ]
  },
  {
   "cell_type": "code",
   "execution_count": 12,
   "metadata": {},
   "outputs": [
    {
     "data": {
      "text/html": [
       "<table border=\"1\" class=\"dataframe\">\n",
       "  <thead>\n",
       "    <tr style=\"text-align: right;\">\n",
       "      <th></th>\n",
       "      <th>type</th>\n",
       "      <th>label</th>\n",
       "      <th>date</th>\n",
       "      <th>collection</th>\n",
       "      <th>start</th>\n",
       "      <th>end</th>\n",
       "      <th>length</th>\n",
       "      <th>unknown</th>\n",
       "    </tr>\n",
       "    <tr>\n",
       "      <th>rid</th>\n",
       "      <th></th>\n",
       "      <th></th>\n",
       "      <th></th>\n",
       "      <th></th>\n",
       "      <th></th>\n",
       "      <th></th>\n",
       "      <th></th>\n",
       "      <th></th>\n",
       "    </tr>\n",
       "  </thead>\n",
       "  <tbody>\n",
       "    <tr>\n",
       "      <th>AY559088.1|ORF@02613</th>\n",
       "      <td>ORF</td>\n",
       "      <td>UNDEF</td>\n",
       "      <td>2004-09-24</td>\n",
       "      <td>unknown</td>\n",
       "      <td>2613</td>\n",
       "      <td>13398</td>\n",
       "      <td>10785</td>\n",
       "      <td>0.000000</td>\n",
       "    </tr>\n",
       "    <tr>\n",
       "      <th>AY595412.1|ORF@02921</th>\n",
       "      <td>ORF</td>\n",
       "      <td>UNDEF</td>\n",
       "      <td>2006-12-07</td>\n",
       "      <td>unknown</td>\n",
       "      <td>2921</td>\n",
       "      <td>13391</td>\n",
       "      <td>10470</td>\n",
       "      <td>0.000000</td>\n",
       "    </tr>\n",
       "    <tr>\n",
       "      <th>GU937797.1|ORF@02385</th>\n",
       "      <td>ORF</td>\n",
       "      <td>UNDEF</td>\n",
       "      <td>2011-03-27</td>\n",
       "      <td>unknown</td>\n",
       "      <td>2385</td>\n",
       "      <td>12639</td>\n",
       "      <td>10254</td>\n",
       "      <td>0.000000</td>\n",
       "    </tr>\n",
       "    <tr>\n",
       "      <th>AY394850.2|ORF@03360</th>\n",
       "      <td>ORF</td>\n",
       "      <td>UNDEF</td>\n",
       "      <td>2005-05-10</td>\n",
       "      <td>unknown</td>\n",
       "      <td>3360</td>\n",
       "      <td>13413</td>\n",
       "      <td>10053</td>\n",
       "      <td>0.000000</td>\n",
       "    </tr>\n",
       "    <tr>\n",
       "      <th>EPI_ISL_417198|ORF@04553</th>\n",
       "      <td>ORF</td>\n",
       "      <td>UNDEF</td>\n",
       "      <td>2020-03-12</td>\n",
       "      <td>2020</td>\n",
       "      <td>4553</td>\n",
       "      <td>13430</td>\n",
       "      <td>8877</td>\n",
       "      <td>0.000338</td>\n",
       "    </tr>\n",
       "    <tr>\n",
       "      <th>MN486588.1|ORF@04008</th>\n",
       "      <td>ORF</td>\n",
       "      <td>UNDEF</td>\n",
       "      <td>2020-02-10</td>\n",
       "      <td>Feb-2016</td>\n",
       "      <td>4008</td>\n",
       "      <td>12618</td>\n",
       "      <td>8610</td>\n",
       "      <td>0.000000</td>\n",
       "    </tr>\n",
       "    <tr>\n",
       "      <th>FN430415.1|ORF@12427</th>\n",
       "      <td>ORF</td>\n",
       "      <td>UNDEF</td>\n",
       "      <td>2013-07-03</td>\n",
       "      <td>2006</td>\n",
       "      <td>12427</td>\n",
       "      <td>20386</td>\n",
       "      <td>7959</td>\n",
       "      <td>0.000000</td>\n",
       "    </tr>\n",
       "    <tr>\n",
       "      <th>AY613948.1|ORF@13548</th>\n",
       "      <td>ORF</td>\n",
       "      <td>UNDEF</td>\n",
       "      <td>2005-02-28</td>\n",
       "      <td>unknown</td>\n",
       "      <td>13548</td>\n",
       "      <td>21435</td>\n",
       "      <td>7887</td>\n",
       "      <td>0.000000</td>\n",
       "    </tr>\n",
       "    <tr>\n",
       "      <th>AY613949.1|ORF@13548</th>\n",
       "      <td>ORF</td>\n",
       "      <td>UNDEF</td>\n",
       "      <td>2005-02-28</td>\n",
       "      <td>unknown</td>\n",
       "      <td>13548</td>\n",
       "      <td>21435</td>\n",
       "      <td>7887</td>\n",
       "      <td>0.000000</td>\n",
       "    </tr>\n",
       "    <tr>\n",
       "      <th>HM776941.1|ORF@12528</th>\n",
       "      <td>ORF</td>\n",
       "      <td>UNDEF</td>\n",
       "      <td>2012-10-11</td>\n",
       "      <td>2009</td>\n",
       "      <td>12528</td>\n",
       "      <td>20364</td>\n",
       "      <td>7836</td>\n",
       "      <td>0.000000</td>\n",
       "    </tr>\n",
       "    <tr>\n",
       "      <th>AY613947.1|ORF@06250</th>\n",
       "      <td>ORF</td>\n",
       "      <td>UNDEF</td>\n",
       "      <td>2005-02-28</td>\n",
       "      <td>unknown</td>\n",
       "      <td>6250</td>\n",
       "      <td>13363</td>\n",
       "      <td>7113</td>\n",
       "      <td>0.000000</td>\n",
       "    </tr>\n",
       "    <tr>\n",
       "      <th>MH687975.1|ORF@11663</th>\n",
       "      <td>ORF</td>\n",
       "      <td>UNDEF</td>\n",
       "      <td>2018-11-12</td>\n",
       "      <td>09-Dec-2013</td>\n",
       "      <td>11663</td>\n",
       "      <td>18467</td>\n",
       "      <td>6804</td>\n",
       "      <td>0.000000</td>\n",
       "    </tr>\n",
       "    <tr>\n",
       "      <th>AY351680.1|ORF@14525</th>\n",
       "      <td>ORF</td>\n",
       "      <td>UNDEF</td>\n",
       "      <td>2003-08-03</td>\n",
       "      <td>unknown</td>\n",
       "      <td>14525</td>\n",
       "      <td>19124</td>\n",
       "      <td>4599</td>\n",
       "      <td>0.000000</td>\n",
       "    </tr>\n",
       "  </tbody>\n",
       "</table>"
      ],
      "text/plain": [
       "<IPython.core.display.HTML object>"
      ]
     },
     "metadata": {},
     "output_type": "display_data"
    },
    {
     "name": "stdout",
     "output_type": "stream",
     "text": [
      "[+] Total ORF1a outliers (based on the starting codon) : 13\n"
     ]
    }
   ],
   "source": [
    "start_orf1a = mean_start_orf1a + 3 * std_start_orf1a\n",
    "outliers_orf1a = orf1a[orf1a[\"start\"] > start_orf1a]\n",
    "\n",
    "display(HTML(outliers_orf1a.drop(hidden_regions_columns, axis=1).to_html()))\n",
    "print(\"[+] Total ORF1a outliers (based on the starting codon) :\", len(outliers_orf1a))"
   ]
  },
  {
   "cell_type": "markdown",
   "metadata": {},
   "source": [
    "Is even 3 sigma a good measure of what an anomaly is suppose to be on this context? Looking at the cases on the table it just seems that this viruses contains an ORF1a gene much further from the 5' that others normally do. Is the ORF size and start position enough variables to predict which specific ORF is? My guess is that the aminoacid composition of the translated segment should play an important role as well.\n",
    "\n",
    "When this type of problems arise, i.e. multiple variables are needed in order to spot anomalies and classify certain data, that's where machine learning comes handy. I don't think we need anything fancy here, something like a simple [random forest](https://en.wikipedia.org/wiki/Random_forest) would work. I also like RF because you can get a better grasp of what's going just by looking at the importances for each feature.\n",
    "\n",
    "So let's give it a try. Before we have to craft our training dataset and we can use the CDS annotations for that.\n",
    "\n",
    "## 1.1 Training samples (CDS) <a id=\"section3\"></a>\n",
    "\n",
    "We already have samples with the ORF1A and ORF1B gene tagged as CDS annotations and we can use those to build the training set for our algorithm. Let's see how many samples we have for each case."
   ]
  },
  {
   "cell_type": "code",
   "execution_count": 303,
   "metadata": {},
   "outputs": [
    {
     "name": "stdout",
     "output_type": "stream",
     "text": [
      "[+] ORF1A tagged cases : 1013\n",
      "[+] ORF1B tagged cases : 183\n"
     ]
    }
   ],
   "source": [
    "# get everything with a reference to 1a\n",
    "orf1a_cds = corona_cds[(corona_cds[\"type\"] == \"CDS\") & ((corona_cds[\"gene\"].str.contains(\"1A\")) | \n",
    "                                                        (corona_cds[\"product\"].str.contains(\"1a\")))]\n",
    "\n",
    "# remove orf1ab rows\n",
    "orf1a_cds = orf1a_cds.drop(orf1a_cds[orf1a_cds[\"product\"].str.contains(\"orf1ab\")].index | \n",
    "                           orf1a_cds[orf1a_cds[\"product\"].str.contains(\"1ab\")].index | \n",
    "                           orf1a_cds[orf1a_cds[\"product\"].str.contains(\"orf1a/1b\")].index | \n",
    "                           orf1a_cds[orf1a_cds[\"gene\"] == \"ORF1A/B\"].index | \n",
    "                           orf1a_cds[orf1a_cds[\"gene\"] == \"ORF1A/1B\"].index | \n",
    "                           orf1a_cds[orf1a_cds[\"gene\"] == \"ORF 1A/1B\"].index | \n",
    "                           orf1a_cds[orf1a_cds[\"gene\"] == \"ORF1AB\"].index | \n",
    "                           orf1a_cds[orf1a_cds[\"gene\"] == \"PP1AB\"].index | \n",
    "                           orf1a_cds[orf1a_cds[\"gene\"] == \"1AB\"].index | \n",
    "                           orf1a_cds[orf1a_cds[\"product\"].str.contains(\"orf1a/b\")].index)\n",
    "\n",
    "# get everything with a reference to 1b\n",
    "orf1b_cds = corona_cds[(corona_cds[\"type\"] == \"CDS\") & ((corona_cds[\"gene\"].str.contains(\"1B\")) | \n",
    "                                                        (corona_cds[\"product\"].str.contains(\"1b\")))]\n",
    "\n",
    "# remove orf1ab rows\n",
    "orf1b_cds = orf1b_cds.drop(orf1b_cds[orf1b_cds[\"product\"].str.contains(\"orf1ab\")].index | \n",
    "                           orf1b_cds[orf1b_cds[\"product\"].str.contains(\"1ab\")].index | \n",
    "                           orf1b_cds[orf1b_cds[\"product\"].str.contains(\"orf1a/1b\")].index | \n",
    "                           orf1b_cds[orf1b_cds[\"gene\"] == \"ORF1A/B\"].index | \n",
    "                           orf1b_cds[orf1b_cds[\"gene\"] == \"ORF1A/1B\"].index | \n",
    "                           orf1b_cds[orf1b_cds[\"gene\"] == \"ORF 1A/1B\"].index | \n",
    "                           orf1b_cds[orf1b_cds[\"gene\"] == \"ORF1AB\"].index | \n",
    "                           orf1b_cds[orf1b_cds[\"gene\"] == \"PP1AB\"].index | \n",
    "                           orf1b_cds[orf1b_cds[\"gene\"] == \"1AB\"].index | \n",
    "                           orf1b_cds[orf1b_cds[\"product\"].str.contains(\"orf1a/b\")].index)\n",
    "\n",
    "print(\"[+] ORF1A tagged cases :\", len(orf1a_cds))\n",
    "print(\"[+] ORF1B tagged cases :\", len(orf1b_cds))"
   ]
  },
  {
   "cell_type": "markdown",
   "metadata": {},
   "source": [
    "Of more than 5k samples we only have around 1k of genomes with ORF1A tagged and 10 times less with ORF1B tagged. It's a quite an unbalanced dataset, the good thing about RF is that we can easily deal with that by weighting each sample.\n",
    "\n",
    "Let's plot the distribution of the start and end position of both of this ORFs to make sure we are not including some weird anomaly."
   ]
  },
  {
   "cell_type": "code",
   "execution_count": 304,
   "metadata": {},
   "outputs": [
    {
     "data": {
      "image/png": "[encoded data removed]",
      "text/plain": [
       "<Figure size 1152x432 with 2 Axes>"
      ]
     },
     "metadata": {
      "needs_background": "light"
     },
     "output_type": "display_data"
    }
   ],
   "source": [
    "fig, axs = plt.subplots(ncols=2, figsize=(16, 6));\n",
    "sns.distplot(orf1a_cds[\"start\"], kde=False, ax=axs[0]);\n",
    "sns.distplot(orf1a_cds[\"end\"], kde=False, ax=axs[1]);"
   ]
  },
  {
   "cell_type": "code",
   "execution_count": 305,
   "metadata": {},
   "outputs": [
    {
     "data": {
      "text/html": [
       "<table border=\"1\" class=\"dataframe\">\n",
       "  <thead>\n",
       "    <tr style=\"text-align: right;\">\n",
       "      <th></th>\n",
       "      <th>product</th>\n",
       "      <th>gene</th>\n",
       "      <th>codon_start</th>\n",
       "      <th>oid</th>\n",
       "      <th>type</th>\n",
       "      <th>date</th>\n",
       "      <th>start</th>\n",
       "      <th>end</th>\n",
       "      <th>length</th>\n",
       "      <th>unknown</th>\n",
       "    </tr>\n",
       "    <tr>\n",
       "      <th>protein_id</th>\n",
       "      <th></th>\n",
       "      <th></th>\n",
       "      <th></th>\n",
       "      <th></th>\n",
       "      <th></th>\n",
       "      <th></th>\n",
       "      <th></th>\n",
       "      <th></th>\n",
       "      <th></th>\n",
       "      <th></th>\n",
       "    </tr>\n",
       "  </thead>\n",
       "  <tbody>\n",
       "    <tr>\n",
       "      <th>ACV87243.1</th>\n",
       "      <td>polyprotein 1a</td>\n",
       "      <td>unknown</td>\n",
       "      <td>1</td>\n",
       "      <td>GQ427173.1</td>\n",
       "      <td>CDS</td>\n",
       "      <td>25-FEB-2010</td>\n",
       "      <td>531</td>\n",
       "      <td>20321</td>\n",
       "      <td>19791</td>\n",
       "      <td>0.0</td>\n",
       "    </tr>\n",
       "    <tr>\n",
       "      <th>AUS29610.1</th>\n",
       "      <td>pp1a replicase polyprotein</td>\n",
       "      <td>ORF1A</td>\n",
       "      <td>1</td>\n",
       "      <td>MG752895.1</td>\n",
       "      <td>CDS</td>\n",
       "      <td>27-JAN-2018</td>\n",
       "      <td>1014</td>\n",
       "      <td>18612</td>\n",
       "      <td>17598</td>\n",
       "      <td>0.0</td>\n",
       "    </tr>\n",
       "    <tr>\n",
       "      <th>AXP11706.1</th>\n",
       "      <td>polyprotein 1a</td>\n",
       "      <td>ORF1A</td>\n",
       "      <td>1</td>\n",
       "      <td>MF685025.1</td>\n",
       "      <td>CDS</td>\n",
       "      <td>26-AUG-2018</td>\n",
       "      <td>820</td>\n",
       "      <td>16288</td>\n",
       "      <td>15468</td>\n",
       "      <td>0.0</td>\n",
       "    </tr>\n",
       "  </tbody>\n",
       "</table>"
      ],
      "text/plain": [
       "<IPython.core.display.HTML object>"
      ]
     },
     "metadata": {},
     "output_type": "display_data"
    }
   ],
   "source": [
    "orf1a_outliers = orf1a_cds[orf1a_cds[\"end\"] > 15000]\n",
    "display(HTML(orf1a_outliers.drop(hidden_cds_columns, axis=1).to_html()))"
   ]
  },
  {
   "cell_type": "markdown",
   "metadata": {},
   "source": [
    "There is definitely a typo on sample [GQ427173.1](https://www.ncbi.nlm.nih.gov/nuccore/MG752895.1). The CDS annotation that is suppose to be the polyprotein 1ab it's tagged as 1a and viceversa. The rest looks OK after manual inspection of the genbank entries. We can safely set a cutoff of 19k for the size of the ORF1A gene. "
   ]
  },
  {
   "cell_type": "code",
   "execution_count": 306,
   "metadata": {},
   "outputs": [
    {
     "name": "stdout",
     "output_type": "stream",
     "text": [
      "[+] ORF1A final samples : 1012\n"
     ]
    }
   ],
   "source": [
    "orf1a_outliers = orf1a_cds[orf1a_cds[\"length\"] > 19000]\n",
    "orf1a_cds = orf1a_cds[~orf1a_cds.index.isin(orf1a_outliers.index)]\n",
    "print(\"[+] ORF1A final samples :\", len(orf1a_cds))"
   ]
  },
  {
   "cell_type": "code",
   "execution_count": 307,
   "metadata": {},
   "outputs": [
    {
     "data": {
      "image/png": "[encoded data removed]",
      "text/plain": [
       "<Figure size 1152x432 with 2 Axes>"
      ]
     },
     "metadata": {
      "needs_background": "light"
     },
     "output_type": "display_data"
    }
   ],
   "source": [
    "fig, axs = plt.subplots(ncols=2, figsize=(16, 6));\n",
    "sns.distplot(orf1b_cds[\"start\"], kde=False, ax=axs[0]);\n",
    "sns.distplot(orf1b_cds[\"end\"], kde=False, ax=axs[1]);"
   ]
  },
  {
   "cell_type": "markdown",
   "metadata": {},
   "source": [
    "Let's look at the outliers for ORF1B."
   ]
  },
  {
   "cell_type": "code",
   "execution_count": 204,
   "metadata": {},
   "outputs": [
    {
     "data": {
      "text/html": [
       "<table border=\"1\" class=\"dataframe\">\n",
       "  <thead>\n",
       "    <tr style=\"text-align: right;\">\n",
       "      <th></th>\n",
       "      <th>product</th>\n",
       "      <th>gene</th>\n",
       "      <th>codon_start</th>\n",
       "      <th>oid</th>\n",
       "      <th>type</th>\n",
       "      <th>date</th>\n",
       "      <th>start</th>\n",
       "      <th>end</th>\n",
       "      <th>length</th>\n",
       "      <th>unknown</th>\n",
       "    </tr>\n",
       "    <tr>\n",
       "      <th>protein_id</th>\n",
       "      <th></th>\n",
       "      <th></th>\n",
       "      <th></th>\n",
       "      <th></th>\n",
       "      <th></th>\n",
       "      <th></th>\n",
       "      <th></th>\n",
       "      <th></th>\n",
       "      <th></th>\n",
       "      <th></th>\n",
       "    </tr>\n",
       "  </thead>\n",
       "  <tbody>\n",
       "    <tr>\n",
       "      <th>AQT33893.1</th>\n",
       "      <td>polyprotein</td>\n",
       "      <td>ORF1B</td>\n",
       "      <td>1</td>\n",
       "      <td>KX550281.1</td>\n",
       "      <td>CDS</td>\n",
       "      <td>04-MAR-2017</td>\n",
       "      <td>292</td>\n",
       "      <td>20637</td>\n",
       "      <td>20388</td>\n",
       "      <td>0.0</td>\n",
       "    </tr>\n",
       "  </tbody>\n",
       "</table>"
      ],
      "text/plain": [
       "<IPython.core.display.HTML object>"
      ]
     },
     "metadata": {},
     "output_type": "display_data"
    }
   ],
   "source": [
    "orf1b_outliers = orf1b_cds[orf1b_cds[\"start\"] < 10000]\n",
    "display(HTML(orf1b_outliers.drop(hidden_cds_columns, axis=1).to_html()))"
   ]
  },
  {
   "cell_type": "markdown",
   "metadata": {},
   "source": [
    "The KX550281.1 case definitely looks like a typo; by inspecting the [genbak entry](https://www.ncbi.nlm.nih.gov/nuccore/KX550281.1) this it's actually an ORF1AB gene, not ORF1B. We should remove this samples from our training dataset."
   ]
  },
  {
   "cell_type": "code",
   "execution_count": 205,
   "metadata": {},
   "outputs": [
    {
     "name": "stdout",
     "output_type": "stream",
     "text": [
      "[+] ORF1B final samples : 182\n"
     ]
    }
   ],
   "source": [
    "orf1b_cds = orf1b_cds[~orf1b_cds.index.isin(orf1b_outliers.index)]\n",
    "print(\"[+] ORF1B final samples :\", len(orf1b_cds))"
   ]
  },
  {
   "cell_type": "markdown",
   "metadata": {},
   "source": [
    "Finally, let's plot the length distribution of both ORFs to have an idea of the average size of each one."
   ]
  },
  {
   "cell_type": "code",
   "execution_count": 206,
   "metadata": {},
   "outputs": [
    {
     "data": {
      "image/png": "[encoded data removed]",
      "text/plain": [
       "<Figure size 1152x432 with 2 Axes>"
      ]
     },
     "metadata": {
      "needs_background": "light"
     },
     "output_type": "display_data"
    }
   ],
   "source": [
    "fig, axs = plt.subplots(ncols=2, figsize=(16, 6));\n",
    "sns.distplot(orf1a_cds[\"length\"], kde=False, ax=axs[0]);\n",
    "sns.distplot(orf1b_cds[\"length\"], kde=False, ax=axs[1]);"
   ]
  },
  {
   "cell_type": "markdown",
   "metadata": {},
   "source": [
    "Pretty good, so now we can safely set a cutoff for the size range of each type of ORF to avoid pollution of our dataset (since they don't overlap and are the biggest genes on the genome) "
   ]
  },
  {
   "cell_type": "code",
   "execution_count": 215,
   "metadata": {},
   "outputs": [
    {
     "name": "stdout",
     "output_type": "stream",
     "text": [
      "[+] ORF1A (min, max) : 10978 - 17598\n",
      "[+] ORF1B (min, max) : 7428 - 8202\n",
      "[+] ORF1A final samples : 1445\n",
      "[+] ORF1B final samples : 200\n"
     ]
    }
   ],
   "source": [
    "# range for ORF1A gene\n",
    "min_orf1a_size = orf1a_cds[\"length\"].min()\n",
    "max_orf1a_size = orf1a_cds[\"length\"].max()\n",
    "\n",
    "# range for ORF1B gene\n",
    "min_orf1b_size = orf1b_cds[\"length\"].min()\n",
    "max_orf1b_size = orf1b_cds[\"length\"].max()\n",
    "\n",
    "print(\"[+] ORF1A (min, max) :\", min_orf1a_size, \"-\", max_orf1a_size)\n",
    "\n",
    "print(\"[+] ORF1B (min, max) :\", min_orf1b_size, \"-\", max_orf1b_size)\n",
    "\n",
    "orf1a_cds = corona_cds[(corona_cds[\"length\"] >= min_orf1a_size) & (corona_cds[\"length\"] <= max_orf1a_size)]\n",
    "orf1b_cds = corona_cds[(corona_cds[\"length\"] >= min_orf1b_size) & (corona_cds[\"length\"] <= max_orf1b_size)]\n",
    "\n",
    "print(\"[+] ORF1A final samples :\", len(orf1a_cds))\n",
    "print(\"[+] ORF1B final samples :\", len(orf1b_cds))"
   ]
  },
  {
   "cell_type": "markdown",
   "metadata": {},
   "source": [
    "So now we have our ORF1 CDS that we are going to use as part of the training set. Let's get the remaining CDS."
   ]
  },
  {
   "cell_type": "code",
   "execution_count": 216,
   "metadata": {},
   "outputs": [],
   "source": [
    "not_orf1_cds = corona_cds[(~corona_cds.index.isin(orf1b_cds.index)) & \n",
    "                          (~corona_cds.index.isin(orf1a_cds.index))]"
   ]
  },
  {
   "cell_type": "markdown",
   "metadata": {},
   "source": [
    "Ideally we would like to clean up this data set from ORF1AB frames, since those are not going to be classified. Let's plot the length distribution of the remaining ORF to find a cutoff size for those cases."
   ]
  },
  {
   "cell_type": "code",
   "execution_count": 217,
   "metadata": {},
   "outputs": [
    {
     "data": {
      "image/png": "[encoded data removed]",
      "text/plain": [
       "<Figure size 1152x432 with 1 Axes>"
      ]
     },
     "metadata": {
      "needs_background": "light"
     },
     "output_type": "display_data"
    }
   ],
   "source": [
    "plt.figure(figsize=(16, 6))\n",
    "sns.distplot(not_orf1_cds[\"length\"], kde=False);"
   ]
  },
  {
   "cell_type": "markdown",
   "metadata": {},
   "source": [
    "So yes, there is a pretty clear separation between ORF1ABs from the others."
   ]
  },
  {
   "cell_type": "code",
   "execution_count": 234,
   "metadata": {},
   "outputs": [
    {
     "data": {
      "image/png": "[encoded data removed]",
      "text/plain": [
       "<Figure size 1152x432 with 1 Axes>"
      ]
     },
     "metadata": {
      "needs_background": "light"
     },
     "output_type": "display_data"
    }
   ],
   "source": [
    "not_orf1_cds = not_orf1_cds[(not_orf1_cds[\"type\"] == \"CDS\") & (not_orf1_cds[\"length\"] < 15000)]\n",
    "plt.figure(figsize=(16, 6))\n",
    "sns.distplot(not_orf1_cds[\"length\"], kde=False);"
   ]
  },
  {
   "cell_type": "code",
   "execution_count": 239,
   "metadata": {},
   "outputs": [
    {
     "data": {
      "text/html": [
       "<table border=\"1\" class=\"dataframe\">\n",
       "  <thead>\n",
       "    <tr style=\"text-align: right;\">\n",
       "      <th></th>\n",
       "      <th>product</th>\n",
       "      <th>gene</th>\n",
       "      <th>codon_start</th>\n",
       "      <th>oid</th>\n",
       "      <th>type</th>\n",
       "      <th>date</th>\n",
       "      <th>start</th>\n",
       "      <th>end</th>\n",
       "      <th>length</th>\n",
       "      <th>unknown</th>\n",
       "    </tr>\n",
       "    <tr>\n",
       "      <th>protein_id</th>\n",
       "      <th></th>\n",
       "      <th></th>\n",
       "      <th></th>\n",
       "      <th></th>\n",
       "      <th></th>\n",
       "      <th></th>\n",
       "      <th></th>\n",
       "      <th></th>\n",
       "      <th></th>\n",
       "      <th></th>\n",
       "    </tr>\n",
       "  </thead>\n",
       "  <tbody>\n",
       "    <tr>\n",
       "      <th>AYR18658.1</th>\n",
       "      <td>replicase polyprotein</td>\n",
       "      <td>unknown</td>\n",
       "      <td>1</td>\n",
       "      <td>MH687975.1</td>\n",
       "      <td>CDS</td>\n",
       "      <td>12-NOV-2018</td>\n",
       "      <td>11663</td>\n",
       "      <td>18467</td>\n",
       "      <td>6804</td>\n",
       "      <td>0.0</td>\n",
       "    </tr>\n",
       "  </tbody>\n",
       "</table>"
      ],
      "text/plain": [
       "<IPython.core.display.HTML object>"
      ]
     },
     "metadata": {},
     "output_type": "display_data"
    }
   ],
   "source": [
    "not_orf1_outliers = not_orf1_cds[not_orf1_cds[\"length\"] > 5000]\n",
    "display(HTML(not_orf1_outliers.drop(hidden_cds_columns, axis=1).to_html()))"
   ]
  },
  {
   "cell_type": "markdown",
   "metadata": {},
   "source": [
    "That case really looks like an ORF1B frame, so we should better move it to the other dataframe and remove it from here."
   ]
  },
  {
   "cell_type": "code",
   "execution_count": 325,
   "metadata": {},
   "outputs": [
    {
     "name": "stdout",
     "output_type": "stream",
     "text": [
      "[+] ORF remaining samples : 21998\n"
     ]
    }
   ],
   "source": [
    "orf1b_cds = pd.concat([orf1b_cds, not_orf1_outliers])\n",
    "not_orf1_cds = not_orf1_cds[(~not_orf1_cds.index.isin(not_orf1_outliers.index))]\n",
    "print(\"[+] ORF remaining samples :\", len(not_orf1_cds))"
   ]
  },
  {
   "cell_type": "markdown",
   "metadata": {},
   "source": [
    "Now it's time to extract the structural proteins's CDS, which are S, E, M and N. After inspection, most of the time this CDS have a single letter gene name for each case."
   ]
  },
  {
   "cell_type": "code",
   "execution_count": 326,
   "metadata": {},
   "outputs": [],
   "source": [
    "corona_cds_orfs = {}\n",
    "\n",
    "# some strings to filter out potential structures proteins from CDS\n",
    "product_strings = {\"S\" : [\"spike\", \"s protein\"], \n",
    "                   \"E\" : [\"envelope\", \" e protein\"], \n",
    "                   \"M\" : [\"m protein\", \"membrane m\", \"membrane protein\"],\n",
    "                   \"N\" : [\"nucleocapsid\", \"nucloecapsid\"]}\n",
    "\n",
    "structural_proteins_ids = []\n",
    "for sp in [\"S\", \"E\", \"M\", \"N\"]:\n",
    "    corona_cds_orfs[sp] = not_orf1_cds[(not_orf1_cds[\"gene\"] == sp) |\n",
    "                                      (not_orf1_cds[\"product\"] == sp.lower())]\n",
    "    structural_proteins_ids += list(corona_cds_orfs[sp].index)\n",
    "\n",
    "# let's account for the rest as accessory proteins\n",
    "accessory_cds = not_orf1_cds[(~not_orf1_cds.index.isin(structural_proteins_ids))]"
   ]
  },
  {
   "cell_type": "markdown",
   "metadata": {},
   "source": [
    "I'm sure the string search query we did on the product description of the CDS above polluted our dataset in both ways; we probably missed a few structural proteins from the CDS database and we got some incorrect ones. Let's plot the start, end and size distribution for each structural protein to spot for anomalies."
   ]
  },
  {
   "cell_type": "code",
   "execution_count": null,
   "metadata": {},
   "outputs": [],
   "source": []
  }
 ],
 "metadata": {
  "kernelspec": {
   "display_name": "Python 3",
   "language": "python",
   "name": "python3"
  },
  "language_info": {
   "codemirror_mode": {
    "name": "ipython",
    "version": 3
   },
   "file_extension": ".py",
   "mimetype": "text/x-python",
   "name": "python",
   "nbconvert_exporter": "python",
   "pygments_lexer": "ipython3",
   "version": "3.6.9"
  }
 },
 "nbformat": 4,
 "nbformat_minor": 4
}
